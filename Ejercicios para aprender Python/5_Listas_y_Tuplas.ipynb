{
  "cells": [
    {
      "cell_type": "markdown",
      "id": "d1a16963-6e72-4bf2-8445-47f8c4950de0",
      "metadata": {
        "id": "d1a16963-6e72-4bf2-8445-47f8c4950de0"
      },
      "source": [
        "# 5.- Listas y Tuplas"
      ]
    },
    {
      "cell_type": "markdown",
      "id": "6f9ec23e-0185-492f-bc67-b8a4bb2d4ef0",
      "metadata": {
        "id": "6f9ec23e-0185-492f-bc67-b8a4bb2d4ef0"
      },
      "source": [
        "## 5.2.- Listas"
      ]
    },
    {
      "cell_type": "markdown",
      "id": "6fadf4a8-0173-4be4-8fa8-5a28260a55be",
      "metadata": {
        "id": "6fadf4a8-0173-4be4-8fa8-5a28260a55be"
      },
      "source": [
        "Una lista generalmente tiene datos homogeneos"
      ]
    },
    {
      "cell_type": "code",
      "execution_count": 2,
      "id": "ee8b43ec-dc1e-4ab0-ad07-cc689c1aab5f",
      "metadata": {
        "id": "ee8b43ec-dc1e-4ab0-ad07-cc689c1aab5f"
      },
      "outputs": [],
      "source": [
        "A = ['Patricia','México','F',1989]"
      ]
    },
    {
      "cell_type": "code",
      "execution_count": 3,
      "id": "7f1c613e-f435-40e7-a422-3429c4a6b3bc",
      "metadata": {
        "colab": {
          "base_uri": "https://localhost:8080/"
        },
        "id": "7f1c613e-f435-40e7-a422-3429c4a6b3bc",
        "outputId": "e942ede1-40b0-479b-85ed-609e81322ba3"
      },
      "outputs": [
        {
          "output_type": "execute_result",
          "data": {
            "text/plain": [
              "['Patricia', 'México', 'F', 1989]"
            ]
          },
          "metadata": {},
          "execution_count": 3
        }
      ],
      "source": [
        "A"
      ]
    },
    {
      "cell_type": "markdown",
      "id": "228872fa-2eb0-4eff-8f6a-eb7c80ec4be4",
      "metadata": {
        "id": "228872fa-2eb0-4eff-8f6a-eb7c80ec4be4"
      },
      "source": [
        "Tambien puede tener datos heterogeneos, como texto y numeros"
      ]
    },
    {
      "cell_type": "code",
      "execution_count": 4,
      "id": "bc1858c1-4645-4ef3-a58c-9caa9b434a73",
      "metadata": {
        "id": "bc1858c1-4645-4ef3-a58c-9caa9b434a73"
      },
      "outputs": [],
      "source": [
        "a = [9,10,8.5,8,8,7.5,10]"
      ]
    },
    {
      "cell_type": "code",
      "execution_count": 5,
      "id": "27383860-9b02-47b1-b5fb-138dd6e99241",
      "metadata": {
        "colab": {
          "base_uri": "https://localhost:8080/"
        },
        "id": "27383860-9b02-47b1-b5fb-138dd6e99241",
        "outputId": "9baf6e20-deea-4f6b-d8a6-1dec76ffd9ed"
      },
      "outputs": [
        {
          "output_type": "execute_result",
          "data": {
            "text/plain": [
              "[9, 10, 8.5, 8, 8, 7.5, 10]"
            ]
          },
          "metadata": {},
          "execution_count": 5
        }
      ],
      "source": [
        "a"
      ]
    },
    {
      "cell_type": "markdown",
      "id": "40204270-3b76-4327-9388-eff4bf61efd7",
      "metadata": {
        "id": "40204270-3b76-4327-9388-eff4bf61efd7"
      },
      "source": [
        "El primer elemento siempre es indice 0, y de ahi vas contando"
      ]
    },
    {
      "cell_type": "code",
      "execution_count": 6,
      "id": "d8cba557-3e4a-4533-a84b-240686eb0924",
      "metadata": {
        "colab": {
          "base_uri": "https://localhost:8080/"
        },
        "id": "d8cba557-3e4a-4533-a84b-240686eb0924",
        "outputId": "45e853fc-2b7e-4404-8b23-530dc2eeed48"
      },
      "outputs": [
        {
          "output_type": "execute_result",
          "data": {
            "text/plain": [
              "9"
            ]
          },
          "metadata": {},
          "execution_count": 6
        }
      ],
      "source": [
        "a[0]"
      ]
    },
    {
      "cell_type": "markdown",
      "id": "a2d96f9a-877b-4e2c-8d3b-acde754d8bca",
      "metadata": {
        "id": "a2d96f9a-877b-4e2c-8d3b-acde754d8bca"
      },
      "source": [
        "Usa len para conocer el numero de elementos en nuestra lista"
      ]
    },
    {
      "cell_type": "code",
      "source": [
        "len(A)"
      ],
      "metadata": {
        "id": "lc98e7UtbSzT",
        "colab": {
          "base_uri": "https://localhost:8080/"
        },
        "outputId": "c2bcb8e2-7ee8-4a76-8553-23a335a16b35"
      },
      "id": "lc98e7UtbSzT",
      "execution_count": 7,
      "outputs": [
        {
          "output_type": "execute_result",
          "data": {
            "text/plain": [
              "4"
            ]
          },
          "metadata": {},
          "execution_count": 7
        }
      ]
    },
    {
      "cell_type": "markdown",
      "source": [
        "Los indices siempre deben de ser enteros - y también se vale que sean expresiones\n"
      ],
      "metadata": {
        "id": "n1HfT3Qlbhaq"
      },
      "id": "n1HfT3Qlbhaq"
    },
    {
      "cell_type": "code",
      "source": [
        "A[-1]"
      ],
      "metadata": {
        "colab": {
          "base_uri": "https://localhost:8080/"
        },
        "id": "UQsBSQBUbC3T",
        "outputId": "c971cdc4-feb0-44bf-9805-b6debf68317c"
      },
      "id": "UQsBSQBUbC3T",
      "execution_count": 8,
      "outputs": [
        {
          "output_type": "execute_result",
          "data": {
            "text/plain": [
              "1989"
            ]
          },
          "metadata": {},
          "execution_count": 8
        }
      ]
    },
    {
      "cell_type": "code",
      "execution_count": 9,
      "id": "701af140-6dfe-498c-8138-8ad8b86d828b",
      "metadata": {
        "id": "701af140-6dfe-498c-8138-8ad8b86d828b",
        "colab": {
          "base_uri": "https://localhost:8080/"
        },
        "outputId": "f72847c6-e543-4fb9-8f1d-4667660fffe2"
      },
      "outputs": [
        {
          "output_type": "execute_result",
          "data": {
            "text/plain": [
              "8"
            ]
          },
          "metadata": {},
          "execution_count": 9
        }
      ],
      "source": [
        "ax=1\n",
        "ay=4\n",
        "a[ax-ay]"
      ]
    },
    {
      "cell_type": "markdown",
      "id": "a72c8a51-e531-4f87-9602-99fa2d433e24",
      "metadata": {
        "id": "a72c8a51-e531-4f87-9602-99fa2d433e24"
      },
      "source": [
        "PUedes cambiar elementos en particular"
      ]
    },
    {
      "cell_type": "code",
      "execution_count": 10,
      "id": "61ac17b8-eaa1-4fac-9f0c-196f616e4b6a",
      "metadata": {
        "id": "61ac17b8-eaa1-4fac-9f0c-196f616e4b6a"
      },
      "outputs": [],
      "source": [
        "a[3] = 7.2"
      ]
    },
    {
      "cell_type": "code",
      "execution_count": 11,
      "id": "ea2e5260-3434-4d9c-9616-222c868baf13",
      "metadata": {
        "id": "ea2e5260-3434-4d9c-9616-222c868baf13",
        "colab": {
          "base_uri": "https://localhost:8080/"
        },
        "outputId": "19bcd167-2e1d-45be-84a5-1e3f88f6b13a"
      },
      "outputs": [
        {
          "output_type": "execute_result",
          "data": {
            "text/plain": [
              "[9, 10, 8.5, 7.2, 8, 7.5, 10]"
            ]
          },
          "metadata": {},
          "execution_count": 11
        }
      ],
      "source": [
        "a"
      ]
    },
    {
      "cell_type": "markdown",
      "id": "9bb87d41-8d7b-439f-abc9-3f2c324bb267",
      "metadata": {
        "id": "9bb87d41-8d7b-439f-abc9-3f2c324bb267"
      },
      "source": [
        "Pero no en listas de caracteres"
      ]
    },
    {
      "cell_type": "code",
      "execution_count": 13,
      "id": "11d4a601-b2f1-42d5-91a1-262b7e2cde29",
      "metadata": {
        "id": "11d4a601-b2f1-42d5-91a1-262b7e2cde29",
        "colab": {
          "base_uri": "https://localhost:8080/",
          "height": 35
        },
        "outputId": "a8636615-f317-46f5-dd11-ac2d0c1e1012"
      },
      "outputs": [
        {
          "output_type": "execute_result",
          "data": {
            "text/plain": [
              "'n'"
            ],
            "application/vnd.google.colaboratory.intrinsic+json": {
              "type": "string"
            }
          },
          "metadata": {},
          "execution_count": 13
        }
      ],
      "source": [
        "b = 'Python'\n",
        "b[5]\n",
        "\n"
      ]
    },
    {
      "cell_type": "code",
      "execution_count": 14,
      "id": "9a084a62-dff2-4687-97fd-4098c2cb29fe",
      "metadata": {
        "id": "9a084a62-dff2-4687-97fd-4098c2cb29fe",
        "colab": {
          "base_uri": "https://localhost:8080/",
          "height": 141
        },
        "outputId": "d7ece3aa-f9a0-4bda-cbc5-0611d0552e57"
      },
      "outputs": [
        {
          "output_type": "error",
          "ename": "TypeError",
          "evalue": "'str' object does not support item assignment",
          "traceback": [
            "\u001b[0;31m---------------------------------------------------------------------------\u001b[0m",
            "\u001b[0;31mTypeError\u001b[0m                                 Traceback (most recent call last)",
            "\u001b[0;32m<ipython-input-14-ed79499faf30>\u001b[0m in \u001b[0;36m<cell line: 0>\u001b[0;34m()\u001b[0m\n\u001b[0;32m----> 1\u001b[0;31m \u001b[0mb\u001b[0m\u001b[0;34m[\u001b[0m\u001b[0;36m5\u001b[0m\u001b[0;34m]\u001b[0m\u001b[0;34m=\u001b[0m\u001b[0;34m'm'\u001b[0m\u001b[0;34m\u001b[0m\u001b[0;34m\u001b[0m\u001b[0m\n\u001b[0m",
            "\u001b[0;31mTypeError\u001b[0m: 'str' object does not support item assignment"
          ]
        }
      ],
      "source": [
        "b[5]='m'"
      ]
    },
    {
      "cell_type": "markdown",
      "id": "45284c87-094b-421e-8f69-576bcd813c2f",
      "metadata": {
        "id": "45284c87-094b-421e-8f69-576bcd813c2f"
      },
      "source": [
        "¿Que pasa si llamamos un indice fuera de la lista?"
      ]
    },
    {
      "cell_type": "code",
      "execution_count": 17,
      "id": "ff5315d3-c051-451e-a9a2-58970f14ff2d",
      "metadata": {
        "id": "ff5315d3-c051-451e-a9a2-58970f14ff2d",
        "colab": {
          "base_uri": "https://localhost:8080/",
          "height": 159
        },
        "outputId": "c83e3803-8c8e-4919-8c3c-8d8bbde7d8b4"
      },
      "outputs": [
        {
          "output_type": "error",
          "ename": "IndexError",
          "evalue": "list index out of range",
          "traceback": [
            "\u001b[0;31m---------------------------------------------------------------------------\u001b[0m",
            "\u001b[0;31mIndexError\u001b[0m                                Traceback (most recent call last)",
            "\u001b[0;32m<ipython-input-17-a8ad871c1f90>\u001b[0m in \u001b[0;36m<cell line: 0>\u001b[0;34m()\u001b[0m\n\u001b[1;32m      1\u001b[0m \u001b[0;31m#Da error\u001b[0m\u001b[0;34m\u001b[0m\u001b[0;34m\u001b[0m\u001b[0m\n\u001b[0;32m----> 2\u001b[0;31m \u001b[0ma\u001b[0m\u001b[0;34m[\u001b[0m\u001b[0;36m7\u001b[0m\u001b[0;34m]\u001b[0m\u001b[0;34m\u001b[0m\u001b[0;34m\u001b[0m\u001b[0m\n\u001b[0m",
            "\u001b[0;31mIndexError\u001b[0m: list index out of range"
          ]
        }
      ],
      "source": [
        "#Da error\n",
        "a[7]\n"
      ]
    },
    {
      "cell_type": "markdown",
      "id": "fea227c1-ae86-4712-befa-af7107de75d3",
      "metadata": {
        "id": "fea227c1-ae86-4712-befa-af7107de75d3"
      },
      "source": [
        "Cada elemento puede usarse como una variable"
      ]
    },
    {
      "cell_type": "code",
      "execution_count": 18,
      "id": "6ffb823c-ab3d-4319-ae31-f7bebcbbeb30",
      "metadata": {
        "id": "6ffb823c-ab3d-4319-ae31-f7bebcbbeb30",
        "colab": {
          "base_uri": "https://localhost:8080/"
        },
        "outputId": "4dd2b5e1-8fef-47d4-975c-9ce3906dbb6a"
      },
      "outputs": [
        {
          "output_type": "execute_result",
          "data": {
            "text/plain": [
              "47.7"
            ]
          },
          "metadata": {},
          "execution_count": 18
        }
      ],
      "source": [
        "5*a[2]+a[3]-a[6]/5"
      ]
    },
    {
      "cell_type": "markdown",
      "id": "48eb6744-5a6c-4761-9b53-894b3049fd57",
      "metadata": {
        "id": "48eb6744-5a6c-4761-9b53-894b3049fd57"
      },
      "source": [
        "Vamos agregando elementos a una lista vacía"
      ]
    },
    {
      "cell_type": "code",
      "execution_count": 19,
      "id": "31afa804-ec4b-446c-9718-e9d88c41cc79",
      "metadata": {
        "id": "31afa804-ec4b-446c-9718-e9d88c41cc79"
      },
      "outputs": [],
      "source": [
        "mi_secuencia=[]"
      ]
    },
    {
      "cell_type": "code",
      "execution_count": 20,
      "id": "328640e8-3bcd-4650-87e3-98f8139c4182",
      "metadata": {
        "id": "328640e8-3bcd-4650-87e3-98f8139c4182"
      },
      "outputs": [],
      "source": [
        "for número in range(-2,3):\n",
        "  mi_secuencia += [número]\n"
      ]
    },
    {
      "cell_type": "code",
      "execution_count": 21,
      "id": "801c2dc4-7528-46f0-8aa0-392b3c6afeeb",
      "metadata": {
        "id": "801c2dc4-7528-46f0-8aa0-392b3c6afeeb",
        "colab": {
          "base_uri": "https://localhost:8080/"
        },
        "outputId": "11c3a5df-533b-4376-989b-c05ab1ed1d35"
      },
      "outputs": [
        {
          "output_type": "execute_result",
          "data": {
            "text/plain": [
              "[-2, -1, 0, 1, 2]"
            ]
          },
          "metadata": {},
          "execution_count": 21
        }
      ],
      "source": [
        "mi_secuencia"
      ]
    },
    {
      "cell_type": "markdown",
      "id": "8e8ecac4-5a0a-472a-9db9-ada0d66b1184",
      "metadata": {
        "id": "8e8ecac4-5a0a-472a-9db9-ada0d66b1184"
      },
      "source": [
        "Y es totalmente viable concatenar 2 listas"
      ]
    },
    {
      "cell_type": "code",
      "execution_count": 23,
      "id": "e6b83da1-84cd-49ff-833c-ea19b020e4a9",
      "metadata": {
        "id": "e6b83da1-84cd-49ff-833c-ea19b020e4a9",
        "colab": {
          "base_uri": "https://localhost:8080/"
        },
        "outputId": "4a0df0f4-e44d-429f-9c78-624a650b2de2"
      },
      "outputs": [
        {
          "output_type": "execute_result",
          "data": {
            "text/plain": [
              "['Patricia', 'México', 'F', 1989, 9, 10, 8.5, 7.2, 8, 7.5, 10]"
            ]
          },
          "metadata": {},
          "execution_count": 23
        }
      ],
      "source": [
        "Lista=A+a\n",
        "Lista"
      ]
    },
    {
      "cell_type": "markdown",
      "id": "94ef821c-02c9-442b-bbbc-88ec86166b61",
      "metadata": {
        "id": "94ef821c-02c9-442b-bbbc-88ec86166b61"
      },
      "source": [
        "#### Por tu cuenta\n",
        "\n",
        "Arma una función que eleve al cuadrado dotos los elementos de una lista. Prueba con una lista con todos los numeros pares del 2 al 20."
      ]
    },
    {
      "cell_type": "code",
      "execution_count": 24,
      "id": "45b5299d-36b9-4134-b278-73181a0d81cb",
      "metadata": {
        "id": "45b5299d-36b9-4134-b278-73181a0d81cb"
      },
      "outputs": [],
      "source": [
        "numeros=[2,4,6,8,10,12,14,16,18,20]"
      ]
    },
    {
      "cell_type": "code",
      "execution_count": 29,
      "id": "8f7c68b5-568b-4baa-bf68-fd9028ecb8f3",
      "metadata": {
        "id": "8f7c68b5-568b-4baa-bf68-fd9028ecb8f3"
      },
      "outputs": [],
      "source": [
        "def cuadrado(numeros):\n",
        "  for numero in numeros:\n",
        "    print(numero**2)\n"
      ]
    },
    {
      "cell_type": "code",
      "execution_count": 30,
      "id": "be8cf34d-a79e-457a-803c-14d6040bb2dc",
      "metadata": {
        "id": "be8cf34d-a79e-457a-803c-14d6040bb2dc",
        "colab": {
          "base_uri": "https://localhost:8080/"
        },
        "outputId": "ae463533-be9e-452f-f96c-26e6ea1c48f2"
      },
      "outputs": [
        {
          "output_type": "stream",
          "name": "stdout",
          "text": [
            "4\n",
            "16\n",
            "36\n",
            "64\n",
            "100\n",
            "144\n",
            "196\n",
            "256\n",
            "324\n",
            "400\n"
          ]
        }
      ],
      "source": [
        "cuadrado(numeros)"
      ]
    },
    {
      "cell_type": "markdown",
      "id": "63872edc-c46c-4e26-bb75-f52bb342ac88",
      "metadata": {
        "id": "63872edc-c46c-4e26-bb75-f52bb342ac88"
      },
      "source": [
        "## 5.3.- Tuplas"
      ]
    },
    {
      "cell_type": "markdown",
      "id": "65383d92-ac77-485b-bc79-f1171a79d555",
      "metadata": {
        "id": "65383d92-ac77-485b-bc79-f1171a79d555"
      },
      "source": [
        "Vamos comenzando con una tupla vacia"
      ]
    },
    {
      "cell_type": "code",
      "execution_count": 31,
      "id": "f2366bbd-3549-4a16-af7c-85904b3bbf0c",
      "metadata": {
        "id": "f2366bbd-3549-4a16-af7c-85904b3bbf0c"
      },
      "outputs": [],
      "source": [
        "datos_cliente1 = ()"
      ]
    },
    {
      "cell_type": "markdown",
      "id": "51fdf97c-476b-417a-9142-d63f6488e351",
      "metadata": {
        "id": "51fdf97c-476b-417a-9142-d63f6488e351"
      },
      "source": [
        "Ahora vamos a añadir 3 elementos a la tupla"
      ]
    },
    {
      "cell_type": "code",
      "execution_count": 32,
      "id": "d7ea6549-4285-42ed-9595-141b324b0d8d",
      "metadata": {
        "id": "d7ea6549-4285-42ed-9595-141b324b0d8d"
      },
      "outputs": [],
      "source": [
        "datos_cliente1='Paty','F','23'"
      ]
    },
    {
      "cell_type": "code",
      "execution_count": 33,
      "id": "8092a924-571e-4c01-877c-3343992080dc",
      "metadata": {
        "id": "8092a924-571e-4c01-877c-3343992080dc",
        "colab": {
          "base_uri": "https://localhost:8080/"
        },
        "outputId": "913226f0-fccb-4158-c767-56c2ab0f663d"
      },
      "outputs": [
        {
          "output_type": "execute_result",
          "data": {
            "text/plain": [
              "('Paty', 'F', '23')"
            ]
          },
          "metadata": {},
          "execution_count": 33
        }
      ],
      "source": [
        "datos_cliente1"
      ]
    },
    {
      "cell_type": "markdown",
      "id": "7a75137d-205b-43d6-b9a3-d73b61c4f383",
      "metadata": {
        "id": "7a75137d-205b-43d6-b9a3-d73b61c4f383"
      },
      "source": [
        "Puedes llamar a los elementos individuales, arma un print que nos diga en que año nació paty (tiene 23 años al 2021)"
      ]
    },
    {
      "cell_type": "code",
      "execution_count": 34,
      "id": "451ff4ad-e817-4f00-b48e-3291b5e47618",
      "metadata": {
        "id": "451ff4ad-e817-4f00-b48e-3291b5e47618",
        "colab": {
          "base_uri": "https://localhost:8080/"
        },
        "outputId": "b2af818c-0458-48a7-8bea-e4d3b6596ed4"
      },
      "outputs": [
        {
          "output_type": "stream",
          "name": "stdout",
          "text": [
            "Paty nació en el año de 1998\n"
          ]
        }
      ],
      "source": [
        "print(datos_cliente1[0],'nació en el año de', 2021-int\n",
        "(datos_cliente1[2]))"
      ]
    },
    {
      "cell_type": "markdown",
      "id": "5d282773-6fc3-4056-b784-14e5ef195d07",
      "metadata": {
        "id": "5d282773-6fc3-4056-b784-14e5ef195d07"
      },
      "source": [
        "Es posible acceder a cualquier secuencia de elementos, asignando cada elemnto de la secuencia con una variable separada por comas"
      ]
    },
    {
      "cell_type": "code",
      "execution_count": 35,
      "id": "1f4b9f03-8cc1-47a4-b60c-a9faced7fcd0",
      "metadata": {
        "id": "1f4b9f03-8cc1-47a4-b60c-a9faced7fcd0"
      },
      "outputs": [],
      "source": [
        "datos_paciente1 = ('Paco',[1.80,69])"
      ]
    },
    {
      "cell_type": "code",
      "execution_count": 36,
      "id": "4e870462-6ac0-4da5-84d7-7721842e108c",
      "metadata": {
        "id": "4e870462-6ac0-4da5-84d7-7721842e108c"
      },
      "outputs": [],
      "source": [
        "nombre,estatura_peso = datos_paciente1"
      ]
    },
    {
      "cell_type": "code",
      "execution_count": 37,
      "id": "9568689e-c811-4fce-be49-6a7d6319e0d8",
      "metadata": {
        "id": "9568689e-c811-4fce-be49-6a7d6319e0d8",
        "colab": {
          "base_uri": "https://localhost:8080/",
          "height": 35
        },
        "outputId": "cac4f577-fa35-4bdd-e777-59033bdd5922"
      },
      "outputs": [
        {
          "output_type": "execute_result",
          "data": {
            "text/plain": [
              "'Paco'"
            ],
            "application/vnd.google.colaboratory.intrinsic+json": {
              "type": "string"
            }
          },
          "metadata": {},
          "execution_count": 37
        }
      ],
      "source": [
        "nombre"
      ]
    },
    {
      "cell_type": "code",
      "execution_count": 38,
      "id": "4045957b-b011-4f30-873f-842dbd6a372e",
      "metadata": {
        "id": "4045957b-b011-4f30-873f-842dbd6a372e",
        "colab": {
          "base_uri": "https://localhost:8080/"
        },
        "outputId": "0b373866-0e23-44c8-a00f-563475a24730"
      },
      "outputs": [
        {
          "output_type": "execute_result",
          "data": {
            "text/plain": [
              "[1.8, 69]"
            ]
          },
          "metadata": {},
          "execution_count": 38
        }
      ],
      "source": [
        "estatura_peso"
      ]
    },
    {
      "cell_type": "markdown",
      "id": "5969742f-1fbf-4624-9ad2-ee0d93ef8bdf",
      "metadata": {
        "id": "5969742f-1fbf-4624-9ad2-ee0d93ef8bdf"
      },
      "source": [
        "Si en la tupla solo hay caracteres, vamos a armar un print que nos de cada letra por separado"
      ]
    },
    {
      "cell_type": "code",
      "execution_count": 39,
      "id": "9d72b043-b0c5-49cb-b7c5-650d0d2d9687",
      "metadata": {
        "id": "9d72b043-b0c5-49cb-b7c5-650d0d2d9687"
      },
      "outputs": [],
      "source": [
        "primera,segunda = 'Va'"
      ]
    },
    {
      "cell_type": "code",
      "execution_count": 40,
      "id": "58736758-30e0-4b06-9bba-cee7cd305dca",
      "metadata": {
        "id": "58736758-30e0-4b06-9bba-cee7cd305dca",
        "colab": {
          "base_uri": "https://localhost:8080/"
        },
        "outputId": "ba031e11-8b18-40f6-9c44-146a59bbc66f"
      },
      "outputs": [
        {
          "output_type": "stream",
          "name": "stdout",
          "text": [
            "V,a\n"
          ]
        }
      ],
      "source": [
        "print(f'{primera},{segunda}')"
      ]
    },
    {
      "cell_type": "markdown",
      "id": "9af5b414-23c0-4dea-b56e-2b50bf54ad79",
      "metadata": {
        "id": "9af5b414-23c0-4dea-b56e-2b50bf54ad79"
      },
      "source": [
        "Y si son valores..."
      ]
    },
    {
      "cell_type": "code",
      "execution_count": 41,
      "id": "53fe6f63-23f3-4fcb-81ee-f1932d4adfe8",
      "metadata": {
        "id": "53fe6f63-23f3-4fcb-81ee-f1932d4adfe8"
      },
      "outputs": [],
      "source": [
        "Estatura,Peso,Temperatura = (1.8,69,37.5)"
      ]
    },
    {
      "cell_type": "code",
      "execution_count": 42,
      "id": "700c9144-5de5-4b55-83e1-fbc39f090da7",
      "metadata": {
        "id": "700c9144-5de5-4b55-83e1-fbc39f090da7",
        "colab": {
          "base_uri": "https://localhost:8080/"
        },
        "outputId": "7db805ec-66b9-4d19-857b-86d57973d751"
      },
      "outputs": [
        {
          "output_type": "stream",
          "name": "stdout",
          "text": [
            "1.8,69,37.5\n"
          ]
        }
      ],
      "source": [
        "print(f'{Estatura},{Peso},{Temperatura}')"
      ]
    },
    {
      "cell_type": "markdown",
      "id": "d0b039d7-3b85-4de4-b1df-27455f1d59fa",
      "metadata": {
        "id": "d0b039d7-3b85-4de4-b1df-27455f1d59fa"
      },
      "source": [
        "También se puede acceder un valor al indexarlo - vamos  arecibir una lista con 3 estudiantes y convertirlo en una tupla enumerada"
      ]
    },
    {
      "cell_type": "code",
      "execution_count": 44,
      "id": "04495cc6-7468-4d22-b572-f035bdb6695d",
      "metadata": {
        "id": "04495cc6-7468-4d22-b572-f035bdb6695d"
      },
      "outputs": [],
      "source": [
        "estudiantes=['Hugo','Paco','Luis']"
      ]
    },
    {
      "cell_type": "code",
      "execution_count": 45,
      "id": "84ed760d-fb28-43cb-b20a-8971b227b453",
      "metadata": {
        "id": "84ed760d-fb28-43cb-b20a-8971b227b453",
        "colab": {
          "base_uri": "https://localhost:8080/"
        },
        "outputId": "1368f8ef-93dd-4a08-f213-c7d42f14731f"
      },
      "outputs": [
        {
          "output_type": "execute_result",
          "data": {
            "text/plain": [
              "[(0, 'Hugo'), (1, 'Paco'), (2, 'Luis')]"
            ]
          },
          "metadata": {},
          "execution_count": 45
        }
      ],
      "source": [
        "list(enumerate(estudiantes))"
      ]
    },
    {
      "cell_type": "code",
      "execution_count": 46,
      "id": "3340c6f3-41a7-4abe-bf54-6bf210e5a39e",
      "metadata": {
        "id": "3340c6f3-41a7-4abe-bf54-6bf210e5a39e",
        "colab": {
          "base_uri": "https://localhost:8080/"
        },
        "outputId": "a41ce2eb-24d3-4760-c6ea-28173fe1df7d"
      },
      "outputs": [
        {
          "output_type": "execute_result",
          "data": {
            "text/plain": [
              "((0, 'Hugo'), (1, 'Paco'), (2, 'Luis'))"
            ]
          },
          "metadata": {},
          "execution_count": 46
        }
      ],
      "source": [
        "tuple(enumerate(estudiantes))"
      ]
    },
    {
      "cell_type": "markdown",
      "id": "320006d7-5524-457c-a61c-5023c62cc322",
      "metadata": {
        "id": "320006d7-5524-457c-a61c-5023c62cc322"
      },
      "source": [
        "#### Por tu cuenta\n",
        "\n",
        "Crea una tupla de un solo elemento con el número 582.4 y luego muestrala"
      ]
    },
    {
      "cell_type": "code",
      "source": [
        "tupla_un_elemento = (582.4,)\n",
        "print(tupla_un_elemento)\n"
      ],
      "metadata": {
        "colab": {
          "base_uri": "https://localhost:8080/"
        },
        "id": "qh2ao1D6FPug",
        "outputId": "209e0b7c-7c1f-476e-e47e-c3dbaff130f2"
      },
      "id": "qh2ao1D6FPug",
      "execution_count": 47,
      "outputs": [
        {
          "output_type": "stream",
          "name": "stdout",
          "text": [
            "(582.4,)\n"
          ]
        }
      ]
    },
    {
      "cell_type": "markdown",
      "id": "fc8ebfbf-8f9c-4fde-85ce-11839d12e340",
      "metadata": {
        "id": "fc8ebfbf-8f9c-4fde-85ce-11839d12e340"
      },
      "source": [
        "#### Por tu cuenta\n",
        "\n",
        "Muestra que pasa si intentas concatenar una lista de 3 enteros con una tupla de 3 enteros usando +"
      ]
    },
    {
      "cell_type": "code",
      "source": [
        "lista = [1, 2, 3]\n",
        "tupla = (4, 5, 6)\n",
        "\n",
        "resultado = lista + tupla  # Esto causará un error\n",
        "print(resultado)\n",
        "\n"
      ],
      "metadata": {
        "colab": {
          "base_uri": "https://localhost:8080/",
          "height": 211
        },
        "id": "jYWgp-a9FSZ0",
        "outputId": "f8db22a6-8800-4717-9142-fc78f3ee0a9f"
      },
      "id": "jYWgp-a9FSZ0",
      "execution_count": 49,
      "outputs": [
        {
          "output_type": "error",
          "ename": "TypeError",
          "evalue": "can only concatenate list (not \"tuple\") to list",
          "traceback": [
            "\u001b[0;31m---------------------------------------------------------------------------\u001b[0m",
            "\u001b[0;31mTypeError\u001b[0m                                 Traceback (most recent call last)",
            "\u001b[0;32m<ipython-input-49-fd2decb1dadd>\u001b[0m in \u001b[0;36m<cell line: 0>\u001b[0;34m()\u001b[0m\n\u001b[1;32m      2\u001b[0m \u001b[0mtupla\u001b[0m \u001b[0;34m=\u001b[0m \u001b[0;34m(\u001b[0m\u001b[0;36m4\u001b[0m\u001b[0;34m,\u001b[0m \u001b[0;36m5\u001b[0m\u001b[0;34m,\u001b[0m \u001b[0;36m6\u001b[0m\u001b[0;34m)\u001b[0m\u001b[0;34m\u001b[0m\u001b[0;34m\u001b[0m\u001b[0m\n\u001b[1;32m      3\u001b[0m \u001b[0;34m\u001b[0m\u001b[0m\n\u001b[0;32m----> 4\u001b[0;31m \u001b[0mresultado\u001b[0m \u001b[0;34m=\u001b[0m \u001b[0mlista\u001b[0m \u001b[0;34m+\u001b[0m \u001b[0mtupla\u001b[0m  \u001b[0;31m# Esto causará un error\u001b[0m\u001b[0;34m\u001b[0m\u001b[0;34m\u001b[0m\u001b[0m\n\u001b[0m\u001b[1;32m      5\u001b[0m \u001b[0mprint\u001b[0m\u001b[0;34m(\u001b[0m\u001b[0mresultado\u001b[0m\u001b[0;34m)\u001b[0m\u001b[0;34m\u001b[0m\u001b[0;34m\u001b[0m\u001b[0m\n\u001b[1;32m      6\u001b[0m \u001b[0;34m\u001b[0m\u001b[0m\n",
            "\u001b[0;31mTypeError\u001b[0m: can only concatenate list (not \"tuple\") to list"
          ]
        }
      ]
    },
    {
      "cell_type": "markdown",
      "id": "e735cded-fe6f-48bb-8062-801e0fd6c1b6",
      "metadata": {
        "id": "e735cded-fe6f-48bb-8062-801e0fd6c1b6"
      },
      "source": [
        "## 5.4.- Separando Secuencias"
      ]
    },
    {
      "cell_type": "markdown",
      "id": "268097d6-3300-4929-9981-8b1e55d549ec",
      "metadata": {
        "id": "268097d6-3300-4929-9981-8b1e55d549ec"
      },
      "source": [
        "Crea una secuencia con todas las potencias de 2 - del 2 al 256"
      ]
    },
    {
      "cell_type": "code",
      "execution_count": 50,
      "id": "42058ae5-f784-412b-8470-2b7f2c229c3e",
      "metadata": {
        "id": "42058ae5-f784-412b-8470-2b7f2c229c3e"
      },
      "outputs": [],
      "source": [
        "potencias2 = [2,4,8,16,32,64,128,264]"
      ]
    },
    {
      "cell_type": "markdown",
      "id": "01ebf672-550e-4ca6-abd5-73e8f036aebc",
      "metadata": {
        "id": "01ebf672-550e-4ca6-abd5-73e8f036aebc"
      },
      "source": [
        "Selecciona el 16 y 32"
      ]
    },
    {
      "cell_type": "code",
      "execution_count": 53,
      "id": "2ded3131-a702-4467-a906-c8e9821e846c",
      "metadata": {
        "id": "2ded3131-a702-4467-a906-c8e9821e846c",
        "colab": {
          "base_uri": "https://localhost:8080/"
        },
        "outputId": "f79a4533-19e3-49ac-d21d-699fa8727ad1"
      },
      "outputs": [
        {
          "output_type": "execute_result",
          "data": {
            "text/plain": [
              "[16, 32]"
            ]
          },
          "metadata": {},
          "execution_count": 53
        }
      ],
      "source": [
        "potencias2[3:5]"
      ]
    },
    {
      "cell_type": "markdown",
      "id": "51a7badc-c12d-4df1-9a04-cfac6cccf92b",
      "metadata": {
        "id": "51a7badc-c12d-4df1-9a04-cfac6cccf92b"
      },
      "source": [
        "Ahora selecciona los primeros 5 elementos"
      ]
    },
    {
      "cell_type": "code",
      "execution_count": 55,
      "id": "3c5bbac0-ed79-483b-ad46-b1ec64bb76a3",
      "metadata": {
        "id": "3c5bbac0-ed79-483b-ad46-b1ec64bb76a3",
        "colab": {
          "base_uri": "https://localhost:8080/"
        },
        "outputId": "82afa573-9cff-46f1-f50e-c5e7399d0f3b"
      },
      "outputs": [
        {
          "output_type": "execute_result",
          "data": {
            "text/plain": [
              "[2, 4, 8, 16, 32]"
            ]
          },
          "metadata": {},
          "execution_count": 55
        }
      ],
      "source": [
        "potencias2[:5]"
      ]
    },
    {
      "cell_type": "markdown",
      "id": "04f36a0c-af19-441d-ace3-13f19b279292",
      "metadata": {
        "id": "04f36a0c-af19-441d-ace3-13f19b279292"
      },
      "source": [
        "Ahora vamos a seleccionar todos desde el 16 en adelante"
      ]
    },
    {
      "cell_type": "code",
      "execution_count": 56,
      "id": "7bcfbdbc-f0f2-44c4-b59b-2c9f8e4ec93d",
      "metadata": {
        "id": "7bcfbdbc-f0f2-44c4-b59b-2c9f8e4ec93d",
        "colab": {
          "base_uri": "https://localhost:8080/"
        },
        "outputId": "8726d9df-edb0-4c40-965a-ccf230b8c519"
      },
      "outputs": [
        {
          "output_type": "execute_result",
          "data": {
            "text/plain": [
              "[16, 32, 64, 128, 264]"
            ]
          },
          "metadata": {},
          "execution_count": 56
        }
      ],
      "source": [
        "potencias2[3:]"
      ]
    },
    {
      "cell_type": "markdown",
      "id": "f04faa4d-bf17-45e2-874a-cfc78919f798",
      "metadata": {
        "id": "f04faa4d-bf17-45e2-874a-cfc78919f798"
      },
      "source": [
        "Si dejamos los : asi nomás, selecciona todo"
      ]
    },
    {
      "cell_type": "code",
      "execution_count": 57,
      "id": "5ae3fa58-9a65-40af-af88-bd03be1753b2",
      "metadata": {
        "id": "5ae3fa58-9a65-40af-af88-bd03be1753b2",
        "colab": {
          "base_uri": "https://localhost:8080/"
        },
        "outputId": "1301b127-e124-4cf5-87db-c7c4958ab499"
      },
      "outputs": [
        {
          "output_type": "execute_result",
          "data": {
            "text/plain": [
              "[2, 4, 8, 16, 32, 64, 128, 264]"
            ]
          },
          "metadata": {},
          "execution_count": 57
        }
      ],
      "source": [
        "potencias2[:]"
      ]
    },
    {
      "cell_type": "markdown",
      "id": "b9bc5f09-3352-4e1e-a560-3e5528197175",
      "metadata": {
        "id": "b9bc5f09-3352-4e1e-a560-3e5528197175"
      },
      "source": [
        "También podemos seleccionar elementos de 2 en 2 o de 3 en 3 o asi, deja :: y luego va el stepfunction"
      ]
    },
    {
      "cell_type": "code",
      "execution_count": 59,
      "id": "dc1f41f6-156c-4c75-ba27-ff30655d5d0e",
      "metadata": {
        "id": "dc1f41f6-156c-4c75-ba27-ff30655d5d0e",
        "colab": {
          "base_uri": "https://localhost:8080/"
        },
        "outputId": "c0156f81-ae6c-40b4-d859-a8bc5ba306bf"
      },
      "outputs": [
        {
          "output_type": "execute_result",
          "data": {
            "text/plain": [
              "[2, 16, 128]"
            ]
          },
          "metadata": {},
          "execution_count": 59
        }
      ],
      "source": [
        "potencias2[::3]"
      ]
    },
    {
      "cell_type": "markdown",
      "id": "c2a43c4a-78bc-40bc-9303-4894721a1a11",
      "metadata": {
        "id": "c2a43c4a-78bc-40bc-9303-4894721a1a11"
      },
      "source": [
        "Y si vamos de -3 en -3 significa que empieza desde el final"
      ]
    },
    {
      "cell_type": "code",
      "execution_count": 60,
      "id": "67dfc2aa-e7fb-4618-b06d-efc838aaffe8",
      "metadata": {
        "id": "67dfc2aa-e7fb-4618-b06d-efc838aaffe8",
        "colab": {
          "base_uri": "https://localhost:8080/"
        },
        "outputId": "ab7f13e7-ed8c-45e7-fbf7-69433a5d7e04"
      },
      "outputs": [
        {
          "output_type": "execute_result",
          "data": {
            "text/plain": [
              "[264, 32, 4]"
            ]
          },
          "metadata": {},
          "execution_count": 60
        }
      ],
      "source": [
        "potencias2[::-3]"
      ]
    },
    {
      "cell_type": "markdown",
      "id": "21fd3e6f-8f87-4778-a42c-337ab34b6077",
      "metadata": {
        "id": "21fd3e6f-8f87-4778-a42c-337ab34b6077"
      },
      "source": [
        "Ahora modifica los nombres de los primeros 3 elementos, - en vez de numero que sea su nombre en letra"
      ]
    },
    {
      "cell_type": "code",
      "execution_count": 61,
      "id": "55433e0e-0d85-44aa-bd82-51b63d02b594",
      "metadata": {
        "id": "55433e0e-0d85-44aa-bd82-51b63d02b594"
      },
      "outputs": [],
      "source": [
        "potencias2[0:3] = ['dos','cuatro','ocho']"
      ]
    },
    {
      "cell_type": "code",
      "execution_count": 63,
      "id": "e01238e9-68ce-498c-8d3e-35537a289094",
      "metadata": {
        "id": "e01238e9-68ce-498c-8d3e-35537a289094",
        "colab": {
          "base_uri": "https://localhost:8080/"
        },
        "outputId": "c061ad38-66ad-45ad-afcb-d7ca8347ea95"
      },
      "outputs": [
        {
          "output_type": "execute_result",
          "data": {
            "text/plain": [
              "['dos', 'cuatro', 'ocho', 16, 32, 64, 128, 264]"
            ]
          },
          "metadata": {},
          "execution_count": 63
        }
      ],
      "source": [
        "potencias2\n"
      ]
    },
    {
      "cell_type": "markdown",
      "id": "17713748-a6e6-45de-b6a0-66ef95e49cdf",
      "metadata": {
        "id": "17713748-a6e6-45de-b6a0-66ef95e49cdf"
      },
      "source": [
        "Mira, si le decimos qu elos elementos 0:2 van a estar [], entonces los borra"
      ]
    },
    {
      "cell_type": "code",
      "execution_count": 64,
      "id": "693215b6-3b49-47f2-9153-bf902a39c87c",
      "metadata": {
        "id": "693215b6-3b49-47f2-9153-bf902a39c87c"
      },
      "outputs": [],
      "source": [
        "potencias2[0:2] = []\n",
        "\n"
      ]
    },
    {
      "cell_type": "code",
      "execution_count": 65,
      "id": "e3c4aa21-3166-463a-9602-7fb8befd2ebe",
      "metadata": {
        "id": "e3c4aa21-3166-463a-9602-7fb8befd2ebe",
        "colab": {
          "base_uri": "https://localhost:8080/"
        },
        "outputId": "a97edaa0-609f-460d-8895-4f3327936935"
      },
      "outputs": [
        {
          "output_type": "execute_result",
          "data": {
            "text/plain": [
              "['ocho', 16, 32, 64, 128, 264]"
            ]
          },
          "metadata": {},
          "execution_count": 65
        }
      ],
      "source": [
        "potencias2[:]"
      ]
    },
    {
      "cell_type": "code",
      "execution_count": 66,
      "id": "64f0cfdb-9dd5-4b25-8a51-3cfa738d7dba",
      "metadata": {
        "id": "64f0cfdb-9dd5-4b25-8a51-3cfa738d7dba"
      },
      "outputs": [],
      "source": [
        "potencias2 = [2,4,8,16,32,64,128,264]\n",
        "potencias2[::3] = [1,1,1]"
      ]
    },
    {
      "cell_type": "code",
      "execution_count": 67,
      "id": "23f10cd9-f3e5-4333-a668-cb6a44c98549",
      "metadata": {
        "id": "23f10cd9-f3e5-4333-a668-cb6a44c98549",
        "colab": {
          "base_uri": "https://localhost:8080/"
        },
        "outputId": "a639a744-997e-4a9a-ba8f-1ba5bbcb4803"
      },
      "outputs": [
        {
          "output_type": "execute_result",
          "data": {
            "text/plain": [
              "[1, 4, 8, 1, 32, 64, 1, 264]"
            ]
          },
          "metadata": {},
          "execution_count": 67
        }
      ],
      "source": [
        "potencias2"
      ]
    },
    {
      "cell_type": "markdown",
      "id": "270080aa-82c2-4407-b507-8be7a1bf26f7",
      "metadata": {
        "id": "270080aa-82c2-4407-b507-8be7a1bf26f7"
      },
      "source": [
        "#### Por tu cuenta\n",
        "\n",
        "Crea una lista llamada números que contenga los valores del 1 al 15, haz las siguientes operaciones\n",
        "-selecciona los numeros enteros\n",
        "-reemplaza los elementos en indices 5 al 9 por 0s\n",
        "-manten solo los primeros 5 elementos, y muestra la lista resultante\n",
        "-Borra todos los elementos que quedan"
      ]
    },
    {
      "cell_type": "code",
      "execution_count": 68,
      "id": "bea74808-8298-4fe0-9c48-457ce0f055b7",
      "metadata": {
        "id": "bea74808-8298-4fe0-9c48-457ce0f055b7",
        "colab": {
          "base_uri": "https://localhost:8080/"
        },
        "outputId": "b75cfda7-96e0-49c5-8a5d-4b948af9a7cb"
      },
      "outputs": [
        {
          "output_type": "stream",
          "name": "stdout",
          "text": [
            "[1, 2, 3, 4, 5]\n",
            "[]\n"
          ]
        }
      ],
      "source": [
        "numeros = list(range(1, 16))\n",
        "\n",
        "numeros[5:10] = [0] * 5\n",
        "\n",
        "\n",
        "numeros = numeros[:5]\n",
        "print(numeros)\n",
        "\n",
        "\n",
        "numeros.clear()\n",
        "print(numeros)\n"
      ]
    },
    {
      "cell_type": "markdown",
      "id": "e787df57-f04d-460b-ac74-ac76912815e4",
      "metadata": {
        "id": "e787df57-f04d-460b-ac74-ac76912815e4"
      },
      "source": [
        "### 5.4.2 - Del"
      ]
    },
    {
      "cell_type": "markdown",
      "id": "4efc660f-3092-43d5-a846-6e12b97c98b4",
      "metadata": {
        "id": "4efc660f-3092-43d5-a846-6e12b97c98b4"
      },
      "source": [
        "Ahora arma uan lista con todos los multiples de 10 del 0 al 90"
      ]
    },
    {
      "cell_type": "code",
      "execution_count": 69,
      "id": "82dffac8-898a-45ea-b5be-cd6f0ad74f8d",
      "metadata": {
        "id": "82dffac8-898a-45ea-b5be-cd6f0ad74f8d"
      },
      "outputs": [],
      "source": [
        "multiplos10 = list(range(0,100,10))"
      ]
    },
    {
      "cell_type": "code",
      "execution_count": 70,
      "id": "69cc933f-368a-42a8-9f19-f7fc28e995ef",
      "metadata": {
        "id": "69cc933f-368a-42a8-9f19-f7fc28e995ef",
        "colab": {
          "base_uri": "https://localhost:8080/"
        },
        "outputId": "33ec1f6b-e752-4974-8876-2bbec3272453"
      },
      "outputs": [
        {
          "output_type": "execute_result",
          "data": {
            "text/plain": [
              "[0, 10, 20, 30, 40, 50, 60, 70, 80, 90]"
            ]
          },
          "metadata": {},
          "execution_count": 70
        }
      ],
      "source": [
        "multiplos10"
      ]
    },
    {
      "cell_type": "markdown",
      "id": "7f593981-b5fc-4629-9725-72e158c5e6b3",
      "metadata": {
        "id": "7f593981-b5fc-4629-9725-72e158c5e6b3"
      },
      "source": [
        "Borra del 30 al 50"
      ]
    },
    {
      "cell_type": "code",
      "execution_count": 71,
      "id": "e46d970a-fff5-4205-bf72-eb4ca270fa93",
      "metadata": {
        "id": "e46d970a-fff5-4205-bf72-eb4ca270fa93"
      },
      "outputs": [],
      "source": [
        "del multiplos10[3:6]"
      ]
    },
    {
      "cell_type": "code",
      "execution_count": 72,
      "id": "37cf9c6a-dea7-47d9-9a25-9c3effa656e0",
      "metadata": {
        "id": "37cf9c6a-dea7-47d9-9a25-9c3effa656e0",
        "colab": {
          "base_uri": "https://localhost:8080/"
        },
        "outputId": "5092203b-81d7-49f7-e8c3-ff6b3ee5973a"
      },
      "outputs": [
        {
          "output_type": "execute_result",
          "data": {
            "text/plain": [
              "[0, 10, 20, 60, 70, 80, 90]"
            ]
          },
          "metadata": {},
          "execution_count": 72
        }
      ],
      "source": [
        "multiplos10"
      ]
    },
    {
      "cell_type": "markdown",
      "id": "76350a53-7aab-4c18-9b43-a55f8b0c551d",
      "metadata": {
        "id": "76350a53-7aab-4c18-9b43-a55f8b0c551d"
      },
      "source": [
        "A continuación, rearma la lista y borra cada segundo elemento"
      ]
    },
    {
      "cell_type": "code",
      "execution_count": 73,
      "id": "17481723-57af-4e64-9479-9d5d33b9af4d",
      "metadata": {
        "id": "17481723-57af-4e64-9479-9d5d33b9af4d"
      },
      "outputs": [],
      "source": [
        "multiplos10 = list(range(0,100,10))"
      ]
    },
    {
      "cell_type": "code",
      "execution_count": 74,
      "id": "434abc5e-a248-4945-b6de-c0492ca8cbc2",
      "metadata": {
        "id": "434abc5e-a248-4945-b6de-c0492ca8cbc2"
      },
      "outputs": [],
      "source": [
        "del multiplos10[::2]"
      ]
    },
    {
      "cell_type": "code",
      "execution_count": 75,
      "id": "aca73456-1032-4b23-b0b6-9b7b44ce0c88",
      "metadata": {
        "id": "aca73456-1032-4b23-b0b6-9b7b44ce0c88",
        "colab": {
          "base_uri": "https://localhost:8080/"
        },
        "outputId": "070ff1b5-5155-4a41-cbfc-16ea46e533fb"
      },
      "outputs": [
        {
          "output_type": "execute_result",
          "data": {
            "text/plain": [
              "[10, 30, 50, 70, 90]"
            ]
          },
          "metadata": {},
          "execution_count": 75
        }
      ],
      "source": [
        "multiplos10"
      ]
    },
    {
      "cell_type": "markdown",
      "id": "da7c571a-ba0f-472b-9800-b94b7808ff05",
      "metadata": {
        "id": "da7c571a-ba0f-472b-9800-b94b7808ff05"
      },
      "source": [
        "Y por último, borra la lista completa"
      ]
    },
    {
      "cell_type": "code",
      "execution_count": 76,
      "id": "d21a9a28-cca0-436d-becb-c021125b4c55",
      "metadata": {
        "id": "d21a9a28-cca0-436d-becb-c021125b4c55"
      },
      "outputs": [],
      "source": [
        "del multiplos10[:]"
      ]
    },
    {
      "cell_type": "code",
      "execution_count": 77,
      "id": "cda97e49-305e-4213-92d5-83ebd048f8e4",
      "metadata": {
        "id": "cda97e49-305e-4213-92d5-83ebd048f8e4",
        "colab": {
          "base_uri": "https://localhost:8080/"
        },
        "outputId": "ca698e36-8b98-4643-95d6-b6f217847435"
      },
      "outputs": [
        {
          "output_type": "execute_result",
          "data": {
            "text/plain": [
              "[]"
            ]
          },
          "metadata": {},
          "execution_count": 77
        }
      ],
      "source": [
        "multiplos10"
      ]
    },
    {
      "cell_type": "markdown",
      "id": "5f383b91-b740-40ed-9904-cfefc90ae7c9",
      "metadata": {
        "id": "5f383b91-b740-40ed-9904-cfefc90ae7c9"
      },
      "source": [
        "#### Por tu cuenta\n",
        "\n",
        "Crea una lista con los numeros del 1 al 15\n",
        "- borra una parte que contenga los primeros 4 elementos, muestra tu resultado\n",
        "- Empezando con el primer elemento, borra cada 2do elemento de la lista."
      ]
    },
    {
      "cell_type": "code",
      "execution_count": 78,
      "id": "f242cd81-a228-4ff9-8b6c-dddab8ce1d6c",
      "metadata": {
        "id": "f242cd81-a228-4ff9-8b6c-dddab8ce1d6c"
      },
      "outputs": [],
      "source": [
        "numeros = list(range(1, 16))"
      ]
    },
    {
      "cell_type": "code",
      "execution_count": 79,
      "id": "a8df8333-685b-4a9f-8132-009421dc71e5",
      "metadata": {
        "id": "a8df8333-685b-4a9f-8132-009421dc71e5",
        "colab": {
          "base_uri": "https://localhost:8080/"
        },
        "outputId": "02c4a9b3-f21a-4214-d482-d07341222ec4"
      },
      "outputs": [
        {
          "output_type": "stream",
          "name": "stdout",
          "text": [
            "[5, 6, 7, 8, 9, 10, 11, 12, 13, 14, 15]\n"
          ]
        }
      ],
      "source": [
        "del numeros[:4]\n",
        "print(numeros)"
      ]
    },
    {
      "cell_type": "code",
      "execution_count": 80,
      "id": "501f2a73-c5af-4416-a486-65d88b3cad0f",
      "metadata": {
        "id": "501f2a73-c5af-4416-a486-65d88b3cad0f",
        "colab": {
          "base_uri": "https://localhost:8080/"
        },
        "outputId": "0fce3bfc-ee20-49ce-898a-10a9be04038b"
      },
      "outputs": [
        {
          "output_type": "stream",
          "name": "stdout",
          "text": [
            "[6, 8, 10, 12, 14]\n"
          ]
        }
      ],
      "source": [
        "del numeros[::2]\n",
        "print(numeros)\n"
      ]
    },
    {
      "cell_type": "markdown",
      "id": "6a657591-236e-4a92-8aac-a46d77f57cdb",
      "metadata": {
        "id": "6a657591-236e-4a92-8aac-a46d77f57cdb"
      },
      "source": [
        "## 5.5.- Listas Ordenadas"
      ]
    },
    {
      "cell_type": "markdown",
      "id": "16151e48-3630-4dcd-a3c4-66c374430646",
      "metadata": {
        "id": "16151e48-3630-4dcd-a3c4-66c374430646"
      },
      "source": [
        "Vamos  armar la lista\n",
        "\n",
        "edad = [65,26,28,36,18]"
      ]
    },
    {
      "cell_type": "code",
      "execution_count": 81,
      "id": "6637251b-41df-44cc-9e5c-6290dba5cbd4",
      "metadata": {
        "id": "6637251b-41df-44cc-9e5c-6290dba5cbd4"
      },
      "outputs": [],
      "source": [
        "edad = [65,26,28,36,18]"
      ]
    },
    {
      "cell_type": "code",
      "execution_count": 82,
      "id": "d3a52279-18a0-4e01-8413-9e5e2ebed60b",
      "metadata": {
        "id": "d3a52279-18a0-4e01-8413-9e5e2ebed60b",
        "colab": {
          "base_uri": "https://localhost:8080/"
        },
        "outputId": "5aee43b8-ad37-4c0a-abe4-9f737ee015c8"
      },
      "outputs": [
        {
          "output_type": "execute_result",
          "data": {
            "text/plain": [
              "[65, 26, 28, 36, 18]"
            ]
          },
          "metadata": {},
          "execution_count": 82
        }
      ],
      "source": [
        "edad"
      ]
    },
    {
      "cell_type": "markdown",
      "id": "bb6aa8e8-9f7d-45f2-a79f-3f32f5db51c9",
      "metadata": {
        "id": "bb6aa8e8-9f7d-45f2-a79f-3f32f5db51c9"
      },
      "source": [
        "Ahora vamos a ordenarla usando sort()"
      ]
    },
    {
      "cell_type": "code",
      "execution_count": 83,
      "id": "920cf4e0-e995-4fd5-beaf-20954b074f84",
      "metadata": {
        "id": "920cf4e0-e995-4fd5-beaf-20954b074f84"
      },
      "outputs": [],
      "source": [
        "edad.sort()"
      ]
    },
    {
      "cell_type": "code",
      "execution_count": 84,
      "id": "0ba2863f-1e1a-4e85-a2ed-b6bfadb93eb1",
      "metadata": {
        "id": "0ba2863f-1e1a-4e85-a2ed-b6bfadb93eb1",
        "colab": {
          "base_uri": "https://localhost:8080/"
        },
        "outputId": "23cd6199-01d1-49e5-f624-acda8ac24562"
      },
      "outputs": [
        {
          "output_type": "execute_result",
          "data": {
            "text/plain": [
              "[18, 26, 28, 36, 65]"
            ]
          },
          "metadata": {},
          "execution_count": 84
        }
      ],
      "source": [
        "edad"
      ]
    },
    {
      "cell_type": "markdown",
      "id": "8a9575ea-33cd-43cd-9f5d-0b3101e84101",
      "metadata": {
        "id": "8a9575ea-33cd-43cd-9f5d-0b3101e84101"
      },
      "source": [
        "Ahora vamos aordenarla usando sort(reverse=true)"
      ]
    },
    {
      "cell_type": "code",
      "execution_count": 85,
      "id": "43c0e69f-6adc-4d7f-83b0-37fabd28bcfe",
      "metadata": {
        "id": "43c0e69f-6adc-4d7f-83b0-37fabd28bcfe"
      },
      "outputs": [],
      "source": [
        "edad.sort(reverse = True)"
      ]
    },
    {
      "cell_type": "code",
      "execution_count": 86,
      "id": "8c4d0a76-abcd-4f1a-950b-176f8deeec7a",
      "metadata": {
        "id": "8c4d0a76-abcd-4f1a-950b-176f8deeec7a",
        "colab": {
          "base_uri": "https://localhost:8080/"
        },
        "outputId": "3436b9d9-57dd-487c-eb0a-a5264f125dda"
      },
      "outputs": [
        {
          "output_type": "execute_result",
          "data": {
            "text/plain": [
              "[65, 36, 28, 26, 18]"
            ]
          },
          "metadata": {},
          "execution_count": 86
        }
      ],
      "source": [
        "edad"
      ]
    },
    {
      "cell_type": "markdown",
      "id": "d4c2de46-6517-4751-b11e-10f58fabb731",
      "metadata": {
        "id": "d4c2de46-6517-4751-b11e-10f58fabb731"
      },
      "source": [
        "También se puede usar la función sorted, que es una función que devuelve otra lista"
      ]
    },
    {
      "cell_type": "code",
      "execution_count": 87,
      "id": "d3657f31-4ada-4d22-9644-4110caaa1b24",
      "metadata": {
        "id": "d3657f31-4ada-4d22-9644-4110caaa1b24"
      },
      "outputs": [],
      "source": [
        "edad = [65,26,28,36,18]"
      ]
    },
    {
      "cell_type": "code",
      "execution_count": 88,
      "id": "e1b49817-2c15-4946-98a8-2a2cd768b236",
      "metadata": {
        "id": "e1b49817-2c15-4946-98a8-2a2cd768b236"
      },
      "outputs": [],
      "source": [
        "edades_ascendentes = sorted(edad)"
      ]
    },
    {
      "cell_type": "code",
      "execution_count": 89,
      "id": "5e90cc89-cae0-47db-bf46-b622385bc3fb",
      "metadata": {
        "id": "5e90cc89-cae0-47db-bf46-b622385bc3fb",
        "colab": {
          "base_uri": "https://localhost:8080/"
        },
        "outputId": "e905d4f4-536a-44a1-bed5-8a7b9715c94f"
      },
      "outputs": [
        {
          "output_type": "execute_result",
          "data": {
            "text/plain": [
              "[18, 26, 28, 36, 65]"
            ]
          },
          "metadata": {},
          "execution_count": 89
        }
      ],
      "source": [
        "edades_ascendentes"
      ]
    },
    {
      "cell_type": "code",
      "execution_count": 90,
      "id": "1c048a24-59d8-4d56-955f-90227a727ee2",
      "metadata": {
        "id": "1c048a24-59d8-4d56-955f-90227a727ee2",
        "colab": {
          "base_uri": "https://localhost:8080/"
        },
        "outputId": "f2c6638e-c710-4b7d-ec3f-7f196ab2fb11"
      },
      "outputs": [
        {
          "output_type": "execute_result",
          "data": {
            "text/plain": [
              "[65, 26, 28, 36, 18]"
            ]
          },
          "metadata": {},
          "execution_count": 90
        }
      ],
      "source": [
        "edad"
      ]
    },
    {
      "cell_type": "markdown",
      "id": "316e7554-d647-4c9c-8c99-356aba8c2688",
      "metadata": {
        "id": "316e7554-d647-4c9c-8c99-356aba8c2688"
      },
      "source": [
        "Se pueden ordenar cadenas de caracters"
      ]
    },
    {
      "cell_type": "code",
      "execution_count": 91,
      "id": "a9cbd0df-1f39-4898-b0a4-9c29d00e462b",
      "metadata": {
        "id": "a9cbd0df-1f39-4898-b0a4-9c29d00e462b"
      },
      "outputs": [],
      "source": [
        "nombre = 'FRANCISCO'"
      ]
    },
    {
      "cell_type": "code",
      "execution_count": 92,
      "id": "c287cd7f-580c-495c-81b2-0512294a54c6",
      "metadata": {
        "id": "c287cd7f-580c-495c-81b2-0512294a54c6"
      },
      "outputs": [],
      "source": [
        "letras_ascendentes = sorted(nombre)"
      ]
    },
    {
      "cell_type": "code",
      "execution_count": 93,
      "id": "8817f622-0f59-4022-a5da-da31f458cad4",
      "metadata": {
        "id": "8817f622-0f59-4022-a5da-da31f458cad4",
        "colab": {
          "base_uri": "https://localhost:8080/"
        },
        "outputId": "cf1a8629-f9fb-462a-b8b6-469e14401cbc"
      },
      "outputs": [
        {
          "output_type": "execute_result",
          "data": {
            "text/plain": [
              "['A', 'C', 'C', 'F', 'I', 'N', 'O', 'R', 'S']"
            ]
          },
          "metadata": {},
          "execution_count": 93
        }
      ],
      "source": [
        "letras_ascendentes"
      ]
    },
    {
      "cell_type": "code",
      "execution_count": 94,
      "id": "a56122d8-3360-42d6-9508-3f81686148d7",
      "metadata": {
        "id": "a56122d8-3360-42d6-9508-3f81686148d7",
        "colab": {
          "base_uri": "https://localhost:8080/",
          "height": 35
        },
        "outputId": "2bbb9309-85e0-4d15-9f5b-4430541cc0d7"
      },
      "outputs": [
        {
          "output_type": "execute_result",
          "data": {
            "text/plain": [
              "'FRANCISCO'"
            ],
            "application/vnd.google.colaboratory.intrinsic+json": {
              "type": "string"
            }
          },
          "metadata": {},
          "execution_count": 94
        }
      ],
      "source": [
        "nombre"
      ]
    },
    {
      "cell_type": "markdown",
      "id": "faf47c21-c6e1-4006-801a-46fcfe875760",
      "metadata": {
        "id": "faf47c21-c6e1-4006-801a-46fcfe875760"
      },
      "source": [
        "Y también las tuplas, pero solo usando sorted"
      ]
    },
    {
      "cell_type": "code",
      "execution_count": 95,
      "id": "af686482-c3dc-4979-8891-d30d669e1b0e",
      "metadata": {
        "id": "af686482-c3dc-4979-8891-d30d669e1b0e"
      },
      "outputs": [],
      "source": [
        "estudiantes = ('Hugo','Paco','Luis')"
      ]
    },
    {
      "cell_type": "code",
      "execution_count": 96,
      "id": "79868e1a-8c36-4658-97b7-39dc63aece88",
      "metadata": {
        "id": "79868e1a-8c36-4658-97b7-39dc63aece88"
      },
      "outputs": [],
      "source": [
        "estud_ordenados = sorted(estudiantes)"
      ]
    },
    {
      "cell_type": "code",
      "execution_count": 97,
      "id": "26c7dde5-1773-4903-9a1d-4a0d05b9ebf1",
      "metadata": {
        "id": "26c7dde5-1773-4903-9a1d-4a0d05b9ebf1",
        "colab": {
          "base_uri": "https://localhost:8080/"
        },
        "outputId": "c5f27262-f9fc-45fc-827f-bd89c43817da"
      },
      "outputs": [
        {
          "output_type": "execute_result",
          "data": {
            "text/plain": [
              "['Hugo', 'Luis', 'Paco']"
            ]
          },
          "metadata": {},
          "execution_count": 97
        }
      ],
      "source": [
        "estud_ordenados"
      ]
    },
    {
      "cell_type": "code",
      "execution_count": 98,
      "id": "e39c4469-e14f-487f-a12c-44daae8a9ea9",
      "metadata": {
        "id": "e39c4469-e14f-487f-a12c-44daae8a9ea9",
        "colab": {
          "base_uri": "https://localhost:8080/"
        },
        "outputId": "dae30e8a-84cf-4035-d2ab-cea87f014a57"
      },
      "outputs": [
        {
          "output_type": "execute_result",
          "data": {
            "text/plain": [
              "('Hugo', 'Paco', 'Luis')"
            ]
          },
          "metadata": {},
          "execution_count": 98
        }
      ],
      "source": [
        "estudiantes"
      ]
    },
    {
      "cell_type": "markdown",
      "id": "fd59c820-17fc-4c26-b4bd-d712c0f899e2",
      "metadata": {
        "id": "fd59c820-17fc-4c26-b4bd-d712c0f899e2"
      },
      "source": [
        "### 5.5.2.- Buscando Secuencias"
      ]
    },
    {
      "cell_type": "markdown",
      "id": "a28823a1-57ce-4a0d-a337-03d44f00d475",
      "metadata": {
        "id": "a28823a1-57ce-4a0d-a337-03d44f00d475"
      },
      "source": [
        "Ahora arma la lista\n",
        "\n",
        "edad = [65,12,19,80,36,28,16,18,36,16,45,32,36,59]    "
      ]
    },
    {
      "cell_type": "code",
      "execution_count": 99,
      "id": "b7d8ace3-e89d-4eb3-888c-88b6db252126",
      "metadata": {
        "id": "b7d8ace3-e89d-4eb3-888c-88b6db252126"
      },
      "outputs": [],
      "source": [
        "edad = [65,12,19,80,36,28,16,18,36,16,45,32,36,59]"
      ]
    },
    {
      "cell_type": "markdown",
      "id": "97238422-0f79-4232-abf4-43e27f6a3a32",
      "metadata": {
        "id": "97238422-0f79-4232-abf4-43e27f6a3a32"
      },
      "source": [
        "Y busca en ella la edad 45 usando el método index()"
      ]
    },
    {
      "cell_type": "code",
      "execution_count": 100,
      "id": "6f1db40f-a4a5-42b6-9eec-1b038a4c7f5e",
      "metadata": {
        "id": "6f1db40f-a4a5-42b6-9eec-1b038a4c7f5e",
        "colab": {
          "base_uri": "https://localhost:8080/"
        },
        "outputId": "e10c93a3-3e81-4859-c5cf-fe74604bcf17"
      },
      "outputs": [
        {
          "output_type": "execute_result",
          "data": {
            "text/plain": [
              "10"
            ]
          },
          "metadata": {},
          "execution_count": 100
        }
      ],
      "source": [
        "edad.index(45)"
      ]
    },
    {
      "cell_type": "markdown",
      "id": "fddd6daa-b6a8-4999-adb0-6663778198cb",
      "metadata": {
        "id": "fddd6daa-b6a8-4999-adb0-6663778198cb"
      },
      "source": [
        "Si buscas algo que no esta, como 43, el resultado es..."
      ]
    },
    {
      "cell_type": "code",
      "execution_count": 101,
      "id": "5cdcf524-0249-4af0-b80c-34e35fc4f351",
      "metadata": {
        "id": "5cdcf524-0249-4af0-b80c-34e35fc4f351",
        "colab": {
          "base_uri": "https://localhost:8080/",
          "height": 141
        },
        "outputId": "f97a5a7b-7d4b-4321-edb8-8efc9123940b"
      },
      "outputs": [
        {
          "output_type": "error",
          "ename": "ValueError",
          "evalue": "43 is not in list",
          "traceback": [
            "\u001b[0;31m---------------------------------------------------------------------------\u001b[0m",
            "\u001b[0;31mValueError\u001b[0m                                Traceback (most recent call last)",
            "\u001b[0;32m<ipython-input-101-3d7a28478f51>\u001b[0m in \u001b[0;36m<cell line: 0>\u001b[0;34m()\u001b[0m\n\u001b[0;32m----> 1\u001b[0;31m \u001b[0medad\u001b[0m\u001b[0;34m.\u001b[0m\u001b[0mindex\u001b[0m\u001b[0;34m(\u001b[0m\u001b[0;36m43\u001b[0m\u001b[0;34m)\u001b[0m\u001b[0;34m\u001b[0m\u001b[0;34m\u001b[0m\u001b[0m\n\u001b[0m",
            "\u001b[0;31mValueError\u001b[0m: 43 is not in list"
          ]
        }
      ],
      "source": [
        "edad.index(43)"
      ]
    },
    {
      "cell_type": "markdown",
      "id": "5f2ef81e-4b06-4dc0-9448-f9b654934f02",
      "metadata": {
        "id": "5f2ef81e-4b06-4dc0-9448-f9b654934f02"
      },
      "source": [
        "Tambien puedes usar el comando in, checa si 56 está in edad"
      ]
    },
    {
      "cell_type": "code",
      "execution_count": 102,
      "id": "d3fc8551-44df-4b27-bd17-5a106650df51",
      "metadata": {
        "id": "d3fc8551-44df-4b27-bd17-5a106650df51",
        "colab": {
          "base_uri": "https://localhost:8080/"
        },
        "outputId": "f0a0e544-1197-4ccb-a31a-777ed5c75630"
      },
      "outputs": [
        {
          "output_type": "execute_result",
          "data": {
            "text/plain": [
              "False"
            ]
          },
          "metadata": {},
          "execution_count": 102
        }
      ],
      "source": [
        "56 in edad"
      ]
    },
    {
      "cell_type": "code",
      "execution_count": 103,
      "id": "9bf49d61-c927-4da0-9870-00a763e9cb15",
      "metadata": {
        "id": "9bf49d61-c927-4da0-9870-00a763e9cb15",
        "colab": {
          "base_uri": "https://localhost:8080/"
        },
        "outputId": "0d26209c-63ef-4914-b059-d4d1ed3c2e88"
      },
      "outputs": [
        {
          "output_type": "execute_result",
          "data": {
            "text/plain": [
              "True"
            ]
          },
          "metadata": {},
          "execution_count": 103
        }
      ],
      "source": [
        "36 in edad"
      ]
    },
    {
      "cell_type": "markdown",
      "id": "ab18778b-6b0d-486f-ba82-8bd8180e49a5",
      "metadata": {
        "id": "ab18778b-6b0d-486f-ba82-8bd8180e49a5"
      },
      "source": [
        "### 5.5.3.- Otros Métodos de Lista"
      ]
    },
    {
      "cell_type": "markdown",
      "id": "5d9ef857-0c98-4d81-bc80-d216d7a6569e",
      "metadata": {
        "id": "5d9ef857-0c98-4d81-bc80-d216d7a6569e"
      },
      "source": [
        "Arma una ensalada\n",
        "\n",
        "vegetales = ['espinaca','apio']"
      ]
    },
    {
      "cell_type": "code",
      "execution_count": 117,
      "id": "cbb8406c-a845-48f7-b750-236900ea5cdd",
      "metadata": {
        "id": "cbb8406c-a845-48f7-b750-236900ea5cdd"
      },
      "outputs": [],
      "source": [
        "vegetales = ['espinaca','apio']"
      ]
    },
    {
      "cell_type": "markdown",
      "id": "8a58a395-7594-4096-83b4-e1e6c5cdcfb6",
      "metadata": {
        "id": "8a58a395-7594-4096-83b4-e1e6c5cdcfb6"
      },
      "source": [
        "Usa el método insert() para meter 'lechuga' en la posición 0"
      ]
    },
    {
      "cell_type": "code",
      "execution_count": 118,
      "id": "d1af9cf7-e8b5-400a-a18f-3196c72e7cc4",
      "metadata": {
        "id": "d1af9cf7-e8b5-400a-a18f-3196c72e7cc4"
      },
      "outputs": [],
      "source": [
        "vegetales.insert(0,'lechuga')"
      ]
    },
    {
      "cell_type": "code",
      "execution_count": 106,
      "id": "b87a1186-e837-481e-a4a9-b94212c7d37d",
      "metadata": {
        "id": "b87a1186-e837-481e-a4a9-b94212c7d37d",
        "colab": {
          "base_uri": "https://localhost:8080/"
        },
        "outputId": "dac7c3b4-966e-4d96-bf6b-c995d52e42c2"
      },
      "outputs": [
        {
          "output_type": "execute_result",
          "data": {
            "text/plain": [
              "['lechuga', 'espinaca', 'apio']"
            ]
          },
          "metadata": {},
          "execution_count": 106
        }
      ],
      "source": [
        "vegetales"
      ]
    },
    {
      "cell_type": "markdown",
      "id": "52d4166b-d321-4a51-bbdd-978c4ded199e",
      "metadata": {
        "id": "52d4166b-d321-4a51-bbdd-978c4ded199e"
      },
      "source": [
        "Usa el método append() para meter 'esparragos' al final"
      ]
    },
    {
      "cell_type": "code",
      "execution_count": 119,
      "id": "2d6855bb-11d3-4d2e-9e5d-599cd6d659cf",
      "metadata": {
        "id": "2d6855bb-11d3-4d2e-9e5d-599cd6d659cf"
      },
      "outputs": [],
      "source": [
        "vegetales.append('esparrago')\n"
      ]
    },
    {
      "cell_type": "code",
      "execution_count": 120,
      "id": "2c8f2cb3-8b4a-4529-8579-863600c19eaf",
      "metadata": {
        "id": "2c8f2cb3-8b4a-4529-8579-863600c19eaf",
        "colab": {
          "base_uri": "https://localhost:8080/"
        },
        "outputId": "44af272a-25e0-4f75-d236-5014ed2d65be"
      },
      "outputs": [
        {
          "output_type": "execute_result",
          "data": {
            "text/plain": [
              "['lechuga', 'espinaca', 'apio', 'esparrago']"
            ]
          },
          "metadata": {},
          "execution_count": 120
        }
      ],
      "source": [
        "vegetales"
      ]
    },
    {
      "cell_type": "markdown",
      "id": "854f646e-1f1a-4677-90f0-f2b23a679ac9",
      "metadata": {
        "id": "854f646e-1f1a-4677-90f0-f2b23a679ac9"
      },
      "source": [
        "Agrega el precio usando el comando extend\n",
        "\n",
        "Precio = (10,15,8,30)"
      ]
    },
    {
      "cell_type": "code",
      "execution_count": 121,
      "id": "0db26dae-3e95-4172-b80b-110bd0caa0ff",
      "metadata": {
        "id": "0db26dae-3e95-4172-b80b-110bd0caa0ff"
      },
      "outputs": [],
      "source": [
        "precio = (10,15,8,30)"
      ]
    },
    {
      "cell_type": "code",
      "execution_count": 122,
      "id": "22a9e659-cf27-4972-90d6-d832c3a3d3ec",
      "metadata": {
        "id": "22a9e659-cf27-4972-90d6-d832c3a3d3ec"
      },
      "outputs": [],
      "source": [
        "vegetales.extend(precio)"
      ]
    },
    {
      "cell_type": "code",
      "execution_count": 113,
      "id": "fe39d26d-136a-4e35-8ea6-ea2d437533f7",
      "metadata": {
        "id": "fe39d26d-136a-4e35-8ea6-ea2d437533f7",
        "colab": {
          "base_uri": "https://localhost:8080/"
        },
        "outputId": "ba26d4bb-7540-46fe-d477-f3c173194b4b"
      },
      "outputs": [
        {
          "output_type": "execute_result",
          "data": {
            "text/plain": [
              "['lechuga', 'espinaca', 'apio', 'esparrago', 10, 15, 8, 30]"
            ]
          },
          "metadata": {},
          "execution_count": 113
        }
      ],
      "source": [
        "vegetales"
      ]
    },
    {
      "cell_type": "markdown",
      "id": "c63867c4-9b99-4b19-924a-06a47965ed9e",
      "metadata": {
        "id": "c63867c4-9b99-4b19-924a-06a47965ed9e"
      },
      "source": [
        "Quitale los esparragos a la ensalada usando remove()"
      ]
    },
    {
      "cell_type": "code",
      "execution_count": 123,
      "id": "3afd8bbc-d8dd-407d-8d65-cfce2092c590",
      "metadata": {
        "id": "3afd8bbc-d8dd-407d-8d65-cfce2092c590"
      },
      "outputs": [],
      "source": [
        "vegetales.remove('esparrago')"
      ]
    },
    {
      "cell_type": "code",
      "execution_count": 124,
      "id": "1675e33b-91cd-451b-aa92-d816a20ade58",
      "metadata": {
        "id": "1675e33b-91cd-451b-aa92-d816a20ade58",
        "colab": {
          "base_uri": "https://localhost:8080/"
        },
        "outputId": "e120957f-0448-4092-cb8d-5f0289200d6c"
      },
      "outputs": [
        {
          "output_type": "execute_result",
          "data": {
            "text/plain": [
              "['lechuga', 'espinaca', 'apio', 10, 15, 8, 30]"
            ]
          },
          "metadata": {},
          "execution_count": 124
        }
      ],
      "source": [
        "vegetales"
      ]
    },
    {
      "cell_type": "markdown",
      "id": "15d3c269-5b8a-4f1e-bee7-48bb5ddfb933",
      "metadata": {
        "id": "15d3c269-5b8a-4f1e-bee7-48bb5ddfb933"
      },
      "source": [
        "Tira la ensalada y ve por un platillo de hombre usando vegetales.clear()"
      ]
    },
    {
      "cell_type": "code",
      "execution_count": null,
      "id": "492a21fc-86d6-48f6-b006-b68a2d7a28a8",
      "metadata": {
        "id": "492a21fc-86d6-48f6-b006-b68a2d7a28a8"
      },
      "outputs": [],
      "source": [
        "vegetales.clear()"
      ]
    },
    {
      "cell_type": "code",
      "execution_count": null,
      "id": "1ede4348-0c19-4a7e-aec7-6fedead371e8",
      "metadata": {
        "id": "1ede4348-0c19-4a7e-aec7-6fedead371e8"
      },
      "outputs": [],
      "source": [
        "vegetales"
      ]
    },
    {
      "cell_type": "markdown",
      "id": "61a5a0f1-41b4-48d1-95ee-ee51a29c90bd",
      "metadata": {
        "id": "61a5a0f1-41b4-48d1-95ee-ee51a29c90bd"
      },
      "source": [
        "### 5.5.4.- Contar"
      ]
    },
    {
      "cell_type": "markdown",
      "id": "3b74c7e6-3015-4bc5-807d-ea567e339a44",
      "metadata": {
        "id": "3b74c7e6-3015-4bc5-807d-ea567e339a44"
      },
      "source": [
        "Arma una lista de edades\n",
        "\n",
        " edades = [15, 21, 16, 19, 20, 16, 19, 15, 21, 17, 18, 24, 20, 24, 21, 19, 18, 16, 19, 16]\n"
      ]
    },
    {
      "cell_type": "code",
      "execution_count": 125,
      "id": "1ec19d16-1f35-468e-86b4-be1f9e6c50b4",
      "metadata": {
        "id": "1ec19d16-1f35-468e-86b4-be1f9e6c50b4"
      },
      "outputs": [],
      "source": [
        "edades = [15, 21, 16, 19, 20, 16, 19, 15, 21, 17, 18, 24, 20, 24, 21, 19, 18, 16, 19, 16]"
      ]
    },
    {
      "cell_type": "markdown",
      "id": "adc447a8-fe46-4bb5-9fab-f0bd2d03ad0f",
      "metadata": {
        "id": "adc447a8-fe46-4bb5-9fab-f0bd2d03ad0f"
      },
      "source": [
        "Usa count para saber cuantas vecs aparece la edad 16"
      ]
    },
    {
      "cell_type": "code",
      "execution_count": 128,
      "id": "73cf7fb6-c511-4fed-9ff0-2dfbcc5bf279",
      "metadata": {
        "id": "73cf7fb6-c511-4fed-9ff0-2dfbcc5bf279",
        "colab": {
          "base_uri": "https://localhost:8080/"
        },
        "outputId": "d9312be5-0906-4192-b26b-21832f841c2c"
      },
      "outputs": [
        {
          "output_type": "stream",
          "name": "stdout",
          "text": [
            "La edad 16 se repite 4 veces\n"
          ]
        }
      ],
      "source": [
        "print(f'La edad {16} se repite {edades.count(16)} veces')"
      ]
    },
    {
      "cell_type": "markdown",
      "id": "31102168-b3ca-48cf-8868-39ac7befccdd",
      "metadata": {
        "id": "31102168-b3ca-48cf-8868-39ac7befccdd"
      },
      "source": [
        "Arma un for para contar cuantas veces se repite cada edad entre 15 a 25 en la lista\n",
        "\n",
        "imprime tus resultados con la frase\n",
        "La edad 15 se repite 2 veces\n",
        "y asi...\n",
        "\n",
        "\n"
      ]
    },
    {
      "cell_type": "code",
      "execution_count": 129,
      "id": "0f90d9b6-590d-4b4e-a702-9b0ecf55a9cb",
      "metadata": {
        "id": "0f90d9b6-590d-4b4e-a702-9b0ecf55a9cb",
        "colab": {
          "base_uri": "https://localhost:8080/"
        },
        "outputId": "9eac258c-b08b-4c20-937f-28e7eab5f5f0"
      },
      "outputs": [
        {
          "output_type": "stream",
          "name": "stdout",
          "text": [
            "La edad 15 se repite 2 veces\n",
            "La edad 16 se repite 4 veces\n",
            "La edad 17 se repite 1 veces\n",
            "La edad 18 se repite 2 veces\n",
            "La edad 19 se repite 4 veces\n",
            "La edad 20 se repite 2 veces\n",
            "La edad 21 se repite 3 veces\n",
            "La edad 22 se repite 0 veces\n",
            "La edad 23 se repite 0 veces\n",
            "La edad 24 se repite 2 veces\n"
          ]
        }
      ],
      "source": [
        "for edad in range(15,25):\n",
        "  print(f'La edad {edad} se repite {edades.count(edad)} veces')"
      ]
    },
    {
      "cell_type": "markdown",
      "id": "4d099cfc-d40a-43f6-9ad3-9dbd6954f1b1",
      "metadata": {
        "id": "4d099cfc-d40a-43f6-9ad3-9dbd6954f1b1"
      },
      "source": [
        "Arma tu ensalada de nuevo\n",
        "\n",
        " vegetales = ['lechuga','espinaca','apio','pepinillo']"
      ]
    },
    {
      "cell_type": "code",
      "execution_count": 130,
      "id": "bfed5d68-3c2d-4145-aa56-d1254aa3db0b",
      "metadata": {
        "id": "bfed5d68-3c2d-4145-aa56-d1254aa3db0b"
      },
      "outputs": [],
      "source": [
        "vegetales = ['lechuga','espinaca','apio','pepinillo']"
      ]
    },
    {
      "cell_type": "markdown",
      "id": "839085b2-372b-4050-b521-e8d7917295f2",
      "metadata": {
        "id": "839085b2-372b-4050-b521-e8d7917295f2"
      },
      "source": [
        "Usa reverse para darle la vuelta"
      ]
    },
    {
      "cell_type": "code",
      "execution_count": 132,
      "id": "9ca9cbff-a4ba-4f71-bdd8-1d8b54e8d465",
      "metadata": {
        "id": "9ca9cbff-a4ba-4f71-bdd8-1d8b54e8d465"
      },
      "outputs": [],
      "source": [
        "vegetales.reverse()"
      ]
    },
    {
      "cell_type": "code",
      "execution_count": 133,
      "id": "971b10a0-2454-4c02-8e17-aaecb91db7e4",
      "metadata": {
        "id": "971b10a0-2454-4c02-8e17-aaecb91db7e4",
        "colab": {
          "base_uri": "https://localhost:8080/"
        },
        "outputId": "5d24b63c-04e4-4fd5-a444-c3fd93509055"
      },
      "outputs": [
        {
          "output_type": "execute_result",
          "data": {
            "text/plain": [
              "['lechuga', 'espinaca', 'apio', 'pepinillo']"
            ]
          },
          "metadata": {},
          "execution_count": 133
        }
      ],
      "source": [
        "vegetales"
      ]
    },
    {
      "cell_type": "markdown",
      "id": "26ef156d-9e86-431b-addd-6ad0225ecc17",
      "metadata": {
        "id": "26ef156d-9e86-431b-addd-6ad0225ecc17"
      },
      "source": [
        "Prepara una seguna ensalada usando copy"
      ]
    },
    {
      "cell_type": "code",
      "execution_count": 134,
      "id": "87e898e6-7355-4388-ad4f-4d441d91a80a",
      "metadata": {
        "id": "87e898e6-7355-4388-ad4f-4d441d91a80a"
      },
      "outputs": [],
      "source": [
        "copia_vegetales = vegetales.copy()"
      ]
    },
    {
      "cell_type": "code",
      "execution_count": 135,
      "id": "0e6bebe5-4f19-4bb7-a3f0-1dfde35d00d4",
      "metadata": {
        "id": "0e6bebe5-4f19-4bb7-a3f0-1dfde35d00d4",
        "colab": {
          "base_uri": "https://localhost:8080/"
        },
        "outputId": "874849dc-0ebc-4980-db8e-e1397ed0903e"
      },
      "outputs": [
        {
          "output_type": "execute_result",
          "data": {
            "text/plain": [
              "['lechuga', 'espinaca', 'apio', 'pepinillo']"
            ]
          },
          "metadata": {},
          "execution_count": 135
        }
      ],
      "source": [
        "copia_vegetales"
      ]
    },
    {
      "cell_type": "markdown",
      "id": "7ff36166-8379-4e4d-8c02-c465f958ad05",
      "metadata": {
        "id": "7ff36166-8379-4e4d-8c02-c465f958ad05"
      },
      "source": [
        "## 5.6.- Comprensión de Listas"
      ]
    },
    {
      "cell_type": "markdown",
      "id": "a83d69a6-c578-4d91-b13b-6ae1676c78b4",
      "metadata": {
        "id": "a83d69a6-c578-4d91-b13b-6ae1676c78b4"
      },
      "source": [
        "Vamos a armar una lista con todos los numeros del 1 al 10 de la manera mas mensa posible\n",
        "\n",
        "empeiza con lista vacia, y luego un for que haga un append de todos los numeros del 1 al 10"
      ]
    },
    {
      "cell_type": "code",
      "execution_count": 136,
      "id": "6bfdc08b-9d0e-44d3-bdae-64df3eaaa3ef",
      "metadata": {
        "id": "6bfdc08b-9d0e-44d3-bdae-64df3eaaa3ef"
      },
      "outputs": [],
      "source": [
        "lista1 = []"
      ]
    },
    {
      "cell_type": "code",
      "execution_count": 137,
      "id": "7744183f-e4cf-4349-9a13-17fe849f90e8",
      "metadata": {
        "id": "7744183f-e4cf-4349-9a13-17fe849f90e8"
      },
      "outputs": [],
      "source": [
        "for dato in range (1,11):\n",
        " lista1.append(dato)"
      ]
    },
    {
      "cell_type": "code",
      "execution_count": 138,
      "id": "ba0cf028-b01c-4975-a69e-8e72291fd6ac",
      "metadata": {
        "id": "ba0cf028-b01c-4975-a69e-8e72291fd6ac",
        "colab": {
          "base_uri": "https://localhost:8080/"
        },
        "outputId": "e3737bf0-5987-4857-d25a-d8d4f35e6f2f"
      },
      "outputs": [
        {
          "output_type": "execute_result",
          "data": {
            "text/plain": [
              "[1, 2, 3, 4, 5, 6, 7, 8, 9, 10]"
            ]
          },
          "metadata": {},
          "execution_count": 138
        }
      ],
      "source": [
        "lista1"
      ]
    },
    {
      "cell_type": "markdown",
      "id": "25bb7da9-eda4-4b25-b861-06f78a991d5d",
      "metadata": {
        "id": "25bb7da9-eda4-4b25-b861-06f78a991d5d"
      },
      "source": [
        "Ahora hacemos lo mismo con la comprensión de listas"
      ]
    },
    {
      "cell_type": "code",
      "execution_count": 139,
      "id": "3df8af71-0695-4081-98ac-270841f5a624",
      "metadata": {
        "id": "3df8af71-0695-4081-98ac-270841f5a624"
      },
      "outputs": [],
      "source": [
        "lista2=[dato for dato in range(1,11)]"
      ]
    },
    {
      "cell_type": "code",
      "execution_count": 140,
      "id": "70760b0f-3fa6-40f8-9668-04413c0bead1",
      "metadata": {
        "id": "70760b0f-3fa6-40f8-9668-04413c0bead1",
        "colab": {
          "base_uri": "https://localhost:8080/"
        },
        "outputId": "e82eb860-1def-479c-e177-ff58d5f56dd4"
      },
      "outputs": [
        {
          "output_type": "execute_result",
          "data": {
            "text/plain": [
              "[1, 2, 3, 4, 5, 6, 7, 8, 9, 10]"
            ]
          },
          "metadata": {},
          "execution_count": 140
        }
      ],
      "source": [
        "lista2"
      ]
    },
    {
      "cell_type": "markdown",
      "id": "987b7ef2-3686-42e5-89b4-03b93f28a91c",
      "metadata": {
        "id": "987b7ef2-3686-42e5-89b4-03b93f28a91c"
      },
      "source": [
        "Tambien de plano podemos reemplazar todo eso por range"
      ]
    },
    {
      "cell_type": "code",
      "execution_count": 141,
      "id": "d7ec16e5-10ad-4e76-a963-83533cf330c1",
      "metadata": {
        "id": "d7ec16e5-10ad-4e76-a963-83533cf330c1"
      },
      "outputs": [],
      "source": [
        "lista3 = list(range(1,11))"
      ]
    },
    {
      "cell_type": "code",
      "execution_count": 142,
      "id": "a03ae328-9b7a-499d-960b-55278b30b862",
      "metadata": {
        "id": "a03ae328-9b7a-499d-960b-55278b30b862",
        "colab": {
          "base_uri": "https://localhost:8080/"
        },
        "outputId": "dd40c869-4851-4c1f-f9bf-7776eb2ffd67"
      },
      "outputs": [
        {
          "output_type": "execute_result",
          "data": {
            "text/plain": [
              "[1, 2, 3, 4, 5, 6, 7, 8, 9, 10]"
            ]
          },
          "metadata": {},
          "execution_count": 142
        }
      ],
      "source": [
        "lista3"
      ]
    },
    {
      "cell_type": "markdown",
      "id": "fe5ab5de-8071-47e9-9b38-6dce775c8958",
      "metadata": {
        "id": "fe5ab5de-8071-47e9-9b38-6dce775c8958"
      },
      "source": [
        "Ahora vamos a mapear - hacer calculos dentro de la comprension de listas, en este caso todos los cuadrados del 1 al 10"
      ]
    },
    {
      "cell_type": "code",
      "execution_count": 143,
      "id": "a6883d8b-4ec2-4f67-95f9-4f3f22dfe0ea",
      "metadata": {
        "id": "a6883d8b-4ec2-4f67-95f9-4f3f22dfe0ea"
      },
      "outputs": [],
      "source": [
        "cuad10=[dato*dato for dato in range(1,11)]"
      ]
    },
    {
      "cell_type": "code",
      "source": [
        "cuad10"
      ],
      "metadata": {
        "colab": {
          "base_uri": "https://localhost:8080/"
        },
        "id": "q-7fPt1kLeC9",
        "outputId": "e0347ab1-6d3b-4c9f-e3e2-63c321e098fe"
      },
      "id": "q-7fPt1kLeC9",
      "execution_count": 144,
      "outputs": [
        {
          "output_type": "execute_result",
          "data": {
            "text/plain": [
              "[1, 4, 9, 16, 25, 36, 49, 64, 81, 100]"
            ]
          },
          "metadata": {},
          "execution_count": 144
        }
      ]
    },
    {
      "cell_type": "markdown",
      "id": "f109e962-88d8-420c-90aa-538e4e221239",
      "metadata": {
        "id": "f109e962-88d8-420c-90aa-538e4e221239"
      },
      "source": [
        "Ahora vamos a generar una comprensión de lista con filtro - todos los cuadrados del 1 al 10 siempre y cuando sean menores a 50"
      ]
    },
    {
      "cell_type": "code",
      "execution_count": 145,
      "id": "7cde0e96-e7aa-44bf-8c91-1ce790802d33",
      "metadata": {
        "id": "7cde0e96-e7aa-44bf-8c91-1ce790802d33"
      },
      "outputs": [],
      "source": [
        "cuad = [dato*dato for dato in range(1,11) if dato*dato<=50]"
      ]
    },
    {
      "cell_type": "code",
      "execution_count": 146,
      "id": "a31678cb-3c3e-4da7-8d73-2241a64f35a7",
      "metadata": {
        "id": "a31678cb-3c3e-4da7-8d73-2241a64f35a7",
        "colab": {
          "base_uri": "https://localhost:8080/"
        },
        "outputId": "bdaf4e8f-81e8-4e72-b8b5-f08388e76140"
      },
      "outputs": [
        {
          "output_type": "execute_result",
          "data": {
            "text/plain": [
              "[1, 4, 9, 16, 25, 36, 49]"
            ]
          },
          "metadata": {},
          "execution_count": 146
        }
      ],
      "source": [
        "cuad"
      ]
    },
    {
      "cell_type": "markdown",
      "id": "4aa8c85a-f86c-4e9a-be7c-79eb3a72c482",
      "metadata": {
        "id": "4aa8c85a-f86c-4e9a-be7c-79eb3a72c482"
      },
      "source": [
        "Que tal que queremos una comprension de lista d etodos los cuadrados pares del 1 al 10?"
      ]
    },
    {
      "cell_type": "code",
      "execution_count": 147,
      "id": "8c22dd51-3455-4106-b5c6-782d11643529",
      "metadata": {
        "id": "8c22dd51-3455-4106-b5c6-782d11643529"
      },
      "outputs": [],
      "source": [
        "cuad2 = [dato*dato for dato in range(1,11) if dato % 2 ==0]"
      ]
    },
    {
      "cell_type": "code",
      "execution_count": 148,
      "id": "687bf525-b3b7-4940-87f3-78b0b42b9206",
      "metadata": {
        "id": "687bf525-b3b7-4940-87f3-78b0b42b9206",
        "colab": {
          "base_uri": "https://localhost:8080/"
        },
        "outputId": "affdb1be-d084-4c09-82e4-62657a28c111"
      },
      "outputs": [
        {
          "output_type": "execute_result",
          "data": {
            "text/plain": [
              "[4, 16, 36, 64, 100]"
            ]
          },
          "metadata": {},
          "execution_count": 148
        }
      ],
      "source": [
        "cuad2"
      ]
    },
    {
      "cell_type": "markdown",
      "id": "6519a6e2-f7db-4902-bce7-66bddcf01da0",
      "metadata": {
        "id": "6519a6e2-f7db-4902-bce7-66bddcf01da0"
      },
      "source": [
        "Vuelve a armar tu ensalada\n",
        "\n",
        " vegetales = ['apio','brocoli','lechuga']\n",
        "    "
      ]
    },
    {
      "cell_type": "code",
      "execution_count": 149,
      "id": "2bbef5ac-54a5-446c-a7eb-629a420c5b50",
      "metadata": {
        "id": "2bbef5ac-54a5-446c-a7eb-629a420c5b50"
      },
      "outputs": [],
      "source": [
        "vegetales = ['apio','brocoli','lechuga']"
      ]
    },
    {
      "cell_type": "code",
      "execution_count": 150,
      "id": "bdd7cc9b-4a6d-455b-9a4c-b588ad7c1695",
      "metadata": {
        "id": "bdd7cc9b-4a6d-455b-9a4c-b588ad7c1695",
        "colab": {
          "base_uri": "https://localhost:8080/"
        },
        "outputId": "26607a01-3fdb-4c1c-89a4-9882555de3fc"
      },
      "outputs": [
        {
          "output_type": "execute_result",
          "data": {
            "text/plain": [
              "['apio', 'brocoli', 'lechuga']"
            ]
          },
          "metadata": {},
          "execution_count": 150
        }
      ],
      "source": [
        "vegetales"
      ]
    },
    {
      "cell_type": "markdown",
      "id": "34ffd820-5dee-4b73-83e1-b9bcd9cbe96d",
      "metadata": {
        "id": "34ffd820-5dee-4b73-83e1-b9bcd9cbe96d"
      },
      "source": [
        "Arma una comprensión de lista que cambie todos estos a mayusculas"
      ]
    },
    {
      "cell_type": "code",
      "execution_count": 151,
      "id": "e469e624-c61a-43f4-b7aa-669491edc9cb",
      "metadata": {
        "id": "e469e624-c61a-43f4-b7aa-669491edc9cb"
      },
      "outputs": [],
      "source": [
        "vegetales2 = [dato.upper() for dato in vegetales]"
      ]
    },
    {
      "cell_type": "code",
      "execution_count": 152,
      "id": "fa326a23-14e5-4355-a0e6-780c7a91780b",
      "metadata": {
        "id": "fa326a23-14e5-4355-a0e6-780c7a91780b",
        "colab": {
          "base_uri": "https://localhost:8080/"
        },
        "outputId": "716d4596-bbe3-42f5-c7f8-7a60234be38e"
      },
      "outputs": [
        {
          "output_type": "execute_result",
          "data": {
            "text/plain": [
              "['APIO', 'BROCOLI', 'LECHUGA']"
            ]
          },
          "metadata": {},
          "execution_count": 152
        }
      ],
      "source": [
        "vegetales2"
      ]
    },
    {
      "cell_type": "markdown",
      "id": "f4ec2120-193b-42e5-bdee-c6cf00796808",
      "metadata": {
        "id": "f4ec2120-193b-42e5-bdee-c6cf00796808"
      },
      "source": [
        "#### Por tu cuenta\n",
        "\n",
        "Arma una comprensión de lista que te devuelva tuplas de todos los numeros del 1 al 6 y sus cubos"
      ]
    },
    {
      "cell_type": "code",
      "execution_count": 155,
      "id": "9cf8e3c1-bbf5-420d-ab2b-497ba1bc35ab",
      "metadata": {
        "id": "9cf8e3c1-bbf5-420d-ab2b-497ba1bc35ab"
      },
      "outputs": [],
      "source": [
        "tuplas_cubos = [(x, x**3) for x in range(1, 7)]"
      ]
    },
    {
      "cell_type": "code",
      "source": [
        "print(tuplas_cubos)"
      ],
      "metadata": {
        "colab": {
          "base_uri": "https://localhost:8080/"
        },
        "id": "UezmxLvRL9E7",
        "outputId": "1bd02d2e-1711-4082-a17e-f796a0edf8c5"
      },
      "id": "UezmxLvRL9E7",
      "execution_count": 156,
      "outputs": [
        {
          "output_type": "stream",
          "name": "stdout",
          "text": [
            "[(1, 1), (2, 8), (3, 27), (4, 64), (5, 125), (6, 216)]\n"
          ]
        }
      ]
    },
    {
      "cell_type": "markdown",
      "id": "e8638d69-e268-429c-b2fa-c78ead6334a6",
      "metadata": {
        "id": "e8638d69-e268-429c-b2fa-c78ead6334a6"
      },
      "source": [
        "#### Por tu cuenta\n",
        "\n",
        "Arma una comprensión de lista que te devuelva todos los mutliples de 3 menores a 60"
      ]
    },
    {
      "cell_type": "code",
      "execution_count": 153,
      "id": "83306e4f-539d-4691-aaa7-4dc513824561",
      "metadata": {
        "id": "83306e4f-539d-4691-aaa7-4dc513824561"
      },
      "outputs": [],
      "source": [
        "multiplos_de_3 = [x for x in range(3, 60, 3)]"
      ]
    },
    {
      "cell_type": "code",
      "execution_count": 154,
      "id": "709712bb-d41f-4999-adaf-9801538ccbd5",
      "metadata": {
        "id": "709712bb-d41f-4999-adaf-9801538ccbd5",
        "colab": {
          "base_uri": "https://localhost:8080/"
        },
        "outputId": "74e640e9-191f-40ab-d26c-9835e175a5c0"
      },
      "outputs": [
        {
          "output_type": "stream",
          "name": "stdout",
          "text": [
            "[3, 6, 9, 12, 15, 18, 21, 24, 27, 30, 33, 36, 39, 42, 45, 48, 51, 54, 57]\n"
          ]
        }
      ],
      "source": [
        "print(multiplos_de_3)"
      ]
    },
    {
      "cell_type": "markdown",
      "id": "4faf8456-53ff-4a5a-8a5e-0a9c5871cc02",
      "metadata": {
        "id": "4faf8456-53ff-4a5a-8a5e-0a9c5871cc02"
      },
      "source": [
        "### 5.6.2.- Generador de Expresiones"
      ]
    },
    {
      "cell_type": "markdown",
      "id": "371fd199-f5a1-43ba-af06-6d52f3d453d4",
      "metadata": {
        "id": "371fd199-f5a1-43ba-af06-6d52f3d453d4"
      },
      "source": [
        "Arma esta lista\n",
        "\n",
        "lista = [-3,5,8,4,1,-6,7,10]"
      ]
    },
    {
      "cell_type": "code",
      "execution_count": 158,
      "id": "1e690475-ea47-444f-9a11-9f6254daaf51",
      "metadata": {
        "id": "1e690475-ea47-444f-9a11-9f6254daaf51",
        "colab": {
          "base_uri": "https://localhost:8080/"
        },
        "outputId": "5898b963-6332-4c5b-cc9a-26df946a7578"
      },
      "outputs": [
        {
          "output_type": "stream",
          "name": "stdout",
          "text": [
            "64 16 36 100 "
          ]
        },
        {
          "output_type": "stream",
          "name": "stderr",
          "text": [
            "<>:2: SyntaxWarning: invalid decimal literal\n",
            "<>:2: SyntaxWarning: invalid decimal literal\n",
            "<ipython-input-158-fe1651946b30>:2: SyntaxWarning: invalid decimal literal\n",
            "  for valor in (x**2for x in lista if x%2==0):\n"
          ]
        }
      ],
      "source": [
        "lista = [-3,5,8,4,1,-6,7,10]\n",
        "for valor in (x**2for x in lista if x%2==0):\n",
        " print(valor,end=' ')"
      ]
    },
    {
      "cell_type": "markdown",
      "id": "7b2acc02-9db6-4c97-8c60-e244d9b63c96",
      "metadata": {
        "id": "7b2acc02-9db6-4c97-8c60-e244d9b63c96"
      },
      "source": [
        "Arma un for que te muestre los cuadrados pares de esta lista"
      ]
    },
    {
      "cell_type": "markdown",
      "id": "e9164aa8-25bb-436b-8bb4-f6827b674404",
      "metadata": {
        "id": "e9164aa8-25bb-436b-8bb4-f6827b674404"
      },
      "source": [
        "Ahora checa como podemos hacer lo mismo con el generador de expresiones"
      ]
    },
    {
      "cell_type": "code",
      "execution_count": 159,
      "id": "7c867d37-c1f8-45e1-8c5d-2c2cc7ae4d98",
      "metadata": {
        "id": "7c867d37-c1f8-45e1-8c5d-2c2cc7ae4d98"
      },
      "outputs": [],
      "source": [
        "cuadrados_pares = (x**2 for x in lista if x%2==0)"
      ]
    },
    {
      "cell_type": "code",
      "source": [
        "cuadrados_pares"
      ],
      "metadata": {
        "colab": {
          "base_uri": "https://localhost:8080/"
        },
        "id": "z4BNuoLnMghL",
        "outputId": "5ebbaa7c-25d3-49ec-d3e1-695bb9360ef1"
      },
      "id": "z4BNuoLnMghL",
      "execution_count": 160,
      "outputs": [
        {
          "output_type": "execute_result",
          "data": {
            "text/plain": [
              "<generator object <genexpr> at 0x7979e6635d80>"
            ]
          },
          "metadata": {},
          "execution_count": 160
        }
      ]
    },
    {
      "cell_type": "markdown",
      "id": "c290a61b-6c18-41eb-9c15-4ad27e8f90a8",
      "metadata": {
        "id": "c290a61b-6c18-41eb-9c15-4ad27e8f90a8"
      },
      "source": [
        "Y para ver los resultados usa list()"
      ]
    },
    {
      "cell_type": "code",
      "execution_count": 161,
      "id": "030dbd25-49ee-441d-9058-6adb1cb034e6",
      "metadata": {
        "id": "030dbd25-49ee-441d-9058-6adb1cb034e6",
        "colab": {
          "base_uri": "https://localhost:8080/"
        },
        "outputId": "299ebc30-00c6-4f9a-e3d5-3a88583f6ac0"
      },
      "outputs": [
        {
          "output_type": "execute_result",
          "data": {
            "text/plain": [
              "[64, 16, 36, 100]"
            ]
          },
          "metadata": {},
          "execution_count": 161
        }
      ],
      "source": [
        "list(cuadrados_pares)"
      ]
    },
    {
      "cell_type": "markdown",
      "id": "9311748b-4e6a-4176-8f7f-4ab6a47a17f0",
      "metadata": {
        "id": "9311748b-4e6a-4176-8f7f-4ab6a47a17f0"
      },
      "source": [
        "#### Por tu cuenta\n",
        "\n",
        "Crea una expresion generadora que eleve al cubo los enteros pares en uan lista que contiene 10,3,7,1,9,4"
      ]
    },
    {
      "cell_type": "code",
      "source": [
        "lista = [10, 3, 7, 1, 9, 4]\n",
        "cubos_pares = (x**3 for x in lista if x % 2 == 0)\n",
        "\n",
        "# Para mostrar los resultados, puedes convertir la expresión generadora en una lista\n",
        "print(list(cubos_pares))\n"
      ],
      "metadata": {
        "colab": {
          "base_uri": "https://localhost:8080/"
        },
        "id": "CaEScq74Msqm",
        "outputId": "88db0fe2-3a8d-4c16-a6ef-9d153ac141f7"
      },
      "id": "CaEScq74Msqm",
      "execution_count": 162,
      "outputs": [
        {
          "output_type": "stream",
          "name": "stdout",
          "text": [
            "[1000, 64]\n"
          ]
        }
      ]
    },
    {
      "cell_type": "markdown",
      "id": "d785037d-ccf0-4b18-8d70-f63c7cd3135d",
      "metadata": {
        "id": "d785037d-ccf0-4b18-8d70-f63c7cd3135d"
      },
      "source": [
        "### 5.6.3.- Filtrar, mapear y reducir"
      ]
    },
    {
      "cell_type": "markdown",
      "id": "39194aec-910a-492e-91eb-6b6fb1b5eb83",
      "metadata": {
        "id": "39194aec-910a-492e-91eb-6b6fb1b5eb83"
      },
      "source": [
        "Primero vamos a definir una funcion que cheque si un numero es par\n",
        "\n",
        "usaremos la lista lista=[-3,5,8,4,1,-6,7,10]"
      ]
    },
    {
      "cell_type": "code",
      "execution_count": 163,
      "id": "4df31406-2bb0-49c6-a3f5-e49460b29fac",
      "metadata": {
        "id": "4df31406-2bb0-49c6-a3f5-e49460b29fac"
      },
      "outputs": [],
      "source": [
        "lista=[-3,5,8,4,1,-6,7,10]"
      ]
    },
    {
      "cell_type": "code",
      "execution_count": 164,
      "id": "c5426c00-0550-4b72-9968-0cf8386d5111",
      "metadata": {
        "id": "c5426c00-0550-4b72-9968-0cf8386d5111"
      },
      "outputs": [],
      "source": [
        "def pares(x):\n",
        " \"\"\"Regresa el valor de la lista solo si es un número par\"\"\"\n",
        " return x % 2==0"
      ]
    },
    {
      "cell_type": "markdown",
      "id": "a9ad5688-aac8-4549-b9c5-6425775085e8",
      "metadata": {
        "id": "a9ad5688-aac8-4549-b9c5-6425775085e8"
      },
      "source": [
        "Ahoa vamos a filtrar la lista usando esta nueva función"
      ]
    },
    {
      "cell_type": "code",
      "execution_count": 166,
      "id": "6a441c8e-29f8-4c80-a388-a2ca3be63530",
      "metadata": {
        "id": "6a441c8e-29f8-4c80-a388-a2ca3be63530",
        "colab": {
          "base_uri": "https://localhost:8080/"
        },
        "outputId": "2542a742-774d-4751-9e6e-c6c2ed437cae"
      },
      "outputs": [
        {
          "output_type": "execute_result",
          "data": {
            "text/plain": [
              "[8, 4, -6, 10]"
            ]
          },
          "metadata": {},
          "execution_count": 166
        }
      ],
      "source": [
        "list(filter(pares,lista))"
      ]
    },
    {
      "cell_type": "markdown",
      "id": "fb4f69f6-f7f8-49f1-94a2-51f481ea137d",
      "metadata": {
        "id": "fb4f69f6-f7f8-49f1-94a2-51f481ea137d"
      },
      "source": [
        "Podemos usar la comprensión de listas y nuestra nueva función para armar una lista"
      ]
    },
    {
      "cell_type": "code",
      "execution_count": 167,
      "id": "e94eaa15-2e37-482b-a69d-28d95d002f06",
      "metadata": {
        "id": "e94eaa15-2e37-482b-a69d-28d95d002f06",
        "colab": {
          "base_uri": "https://localhost:8080/"
        },
        "outputId": "497c49e1-2ba7-4d32-87d1-5648e5c35bfe"
      },
      "outputs": [
        {
          "output_type": "execute_result",
          "data": {
            "text/plain": [
              "[8, 4, -6, 10]"
            ]
          },
          "metadata": {},
          "execution_count": 167
        }
      ],
      "source": [
        "[valor for valor in lista if pares(valor)]"
      ]
    },
    {
      "cell_type": "markdown",
      "id": "f0be8bcf-9b9e-4fb6-93cc-f0f30314f1b8",
      "metadata": {
        "id": "f0be8bcf-9b9e-4fb6-93cc-f0f30314f1b8"
      },
      "source": [
        "Cuando la funcion es tan sencilla, es mejor usar un lambda que andarla definiendo, como en este caso que hacemos lo mismo pero con lambda"
      ]
    },
    {
      "cell_type": "code",
      "execution_count": 168,
      "id": "cdc77c6f-5e42-4d9c-acac-4615f49226f5",
      "metadata": {
        "id": "cdc77c6f-5e42-4d9c-acac-4615f49226f5",
        "colab": {
          "base_uri": "https://localhost:8080/"
        },
        "outputId": "52464ab5-d173-4e7d-8018-bc7362a231fa"
      },
      "outputs": [
        {
          "output_type": "execute_result",
          "data": {
            "text/plain": [
              "[8, 4, -6, 10]"
            ]
          },
          "metadata": {},
          "execution_count": 168
        }
      ],
      "source": [
        "list(filter(lambda x:x%2==0,lista))"
      ]
    },
    {
      "cell_type": "markdown",
      "id": "fb32d7b5-1e45-4906-9905-31dd6d7f94e3",
      "metadata": {
        "id": "fb32d7b5-1e45-4906-9905-31dd6d7f94e3"
      },
      "source": [
        "Vamos a usar lambda y map para mostrar una comprensión de lista que eleva todo al cubo, la lsita a usar sera\n",
        "\n",
        "[-3, 5, 8, 4, 1, -6, 7, 10]\n"
      ]
    },
    {
      "cell_type": "code",
      "execution_count": 172,
      "id": "51dd7c09-cb14-48f0-abf3-00cc4fea926c",
      "metadata": {
        "id": "51dd7c09-cb14-48f0-abf3-00cc4fea926c",
        "colab": {
          "base_uri": "https://localhost:8080/"
        },
        "outputId": "adcf3aee-9449-4371-9dac-db2ef0a419ca"
      },
      "outputs": [
        {
          "output_type": "execute_result",
          "data": {
            "text/plain": [
              "[-3, 5, 8, 4, 1, -6, 7, 10]"
            ]
          },
          "metadata": {},
          "execution_count": 172
        }
      ],
      "source": [
        "lista"
      ]
    },
    {
      "cell_type": "code",
      "execution_count": 171,
      "id": "d8ed07ec-bb97-44df-aaab-1dacef4adb10",
      "metadata": {
        "id": "d8ed07ec-bb97-44df-aaab-1dacef4adb10",
        "colab": {
          "base_uri": "https://localhost:8080/"
        },
        "outputId": "c4b73850-0167-48e2-851f-fa0055a7b472"
      },
      "outputs": [
        {
          "output_type": "execute_result",
          "data": {
            "text/plain": [
              "[-27, 125, 512, 64, 1, -216, 343, 1000]"
            ]
          },
          "metadata": {},
          "execution_count": 171
        }
      ],
      "source": [
        "list(map(lambda x:x**3,lista))\n"
      ]
    },
    {
      "cell_type": "markdown",
      "id": "de526c84-8082-4b3c-b6a6-2e90f78b6288",
      "metadata": {
        "id": "de526c84-8082-4b3c-b6a6-2e90f78b6288"
      },
      "source": [
        "Podemos laograr lo mismo sin map"
      ]
    },
    {
      "cell_type": "code",
      "execution_count": 173,
      "id": "c617c804-b9bc-4bcc-afcf-0f08ca5c03a7",
      "metadata": {
        "id": "c617c804-b9bc-4bcc-afcf-0f08ca5c03a7",
        "colab": {
          "base_uri": "https://localhost:8080/"
        },
        "outputId": "6eb9f7be-920e-4a98-d9f1-612778d527ed"
      },
      "outputs": [
        {
          "output_type": "execute_result",
          "data": {
            "text/plain": [
              "[-27, 125, 512, 64, 1, -216, 343, 1000]"
            ]
          },
          "metadata": {},
          "execution_count": 173
        }
      ],
      "source": [
        "[valor**3 for valor in lista]"
      ]
    },
    {
      "cell_type": "markdown",
      "id": "5678af85-cfcf-470f-b443-5fc8905421e6",
      "metadata": {
        "id": "5678af85-cfcf-470f-b443-5fc8905421e6"
      },
      "source": [
        "#### Por tu cuenta\n",
        "\n",
        "Crea una lista con numeros del 1 al 15 y luego\n",
        "- crea una nueva lista de los elementos impares\n",
        "- crea una nueva lista usando map y lambda para elevar al cuadrado a todos\n",
        "- filtra los elementos impares y luego mapealos a sus cuadrados"
      ]
    },
    {
      "cell_type": "code",
      "execution_count": 174,
      "id": "195e11af-3382-4c54-93e1-9ffc012c7fd5",
      "metadata": {
        "id": "195e11af-3382-4c54-93e1-9ffc012c7fd5"
      },
      "outputs": [],
      "source": [
        "numeros = list(range(1, 16))"
      ]
    },
    {
      "cell_type": "code",
      "execution_count": 175,
      "id": "9dda78d7-f4bc-4019-936c-bf0d79222857",
      "metadata": {
        "id": "9dda78d7-f4bc-4019-936c-bf0d79222857",
        "colab": {
          "base_uri": "https://localhost:8080/"
        },
        "outputId": "a27d66f3-097c-487f-cb0a-5c30711168ef"
      },
      "outputs": [
        {
          "output_type": "stream",
          "name": "stdout",
          "text": [
            "Impares: [1, 3, 5, 7, 9, 11, 13, 15]\n"
          ]
        }
      ],
      "source": [
        "impares = [x for x in numeros if x % 2 != 0]\n",
        "print(\"Impares:\", impares)"
      ]
    },
    {
      "cell_type": "code",
      "execution_count": 176,
      "id": "823ed889-29ad-4be3-96d2-7f9b113a8d06",
      "metadata": {
        "id": "823ed889-29ad-4be3-96d2-7f9b113a8d06",
        "colab": {
          "base_uri": "https://localhost:8080/"
        },
        "outputId": "baaf82fa-edcd-42ff-9f16-421e388da3fa"
      },
      "outputs": [
        {
          "output_type": "stream",
          "name": "stdout",
          "text": [
            "Cuadrados: [1, 4, 9, 16, 25, 36, 49, 64, 81, 100, 121, 144, 169, 196, 225]\n"
          ]
        }
      ],
      "source": [
        "cuadrados = list(map(lambda x: x**2, numeros))\n",
        "print(\"Cuadrados:\", cuadrados)"
      ]
    },
    {
      "cell_type": "code",
      "execution_count": 177,
      "id": "c51796d3-4b5b-4564-9f33-dfffa97a35ea",
      "metadata": {
        "id": "c51796d3-4b5b-4564-9f33-dfffa97a35ea",
        "colab": {
          "base_uri": "https://localhost:8080/"
        },
        "outputId": "d0391ee9-a04f-40ff-c1de-a81ac02e83c9"
      },
      "outputs": [
        {
          "output_type": "stream",
          "name": "stdout",
          "text": [
            "Cuadrados de los impares: [1, 9, 25, 49, 81, 121, 169, 225]\n"
          ]
        }
      ],
      "source": [
        "cuadrados_impares = list(map(lambda x: x**2, filter(lambda x: x % 2 != 0, numeros)))\n",
        "print(\"Cuadrados de los impares:\", cuadrados_impares)"
      ]
    },
    {
      "cell_type": "markdown",
      "id": "8982ada3-b911-4ce7-815d-cdfddd3e3309",
      "metadata": {
        "id": "8982ada3-b911-4ce7-815d-cdfddd3e3309"
      },
      "source": [
        "## 5.7.- Listas de 2 Dimensiones"
      ]
    },
    {
      "cell_type": "markdown",
      "id": "4f792a56-c1f9-49f7-a240-dfc72c4307a8",
      "metadata": {
        "id": "4f792a56-c1f9-49f7-a240-dfc72c4307a8"
      },
      "source": [
        "Es posible crear una lista de 2 dimensiones en python"
      ]
    },
    {
      "cell_type": "code",
      "execution_count": 178,
      "id": "ee176686-c117-456f-a50b-2b5d7cd83ed4",
      "metadata": {
        "id": "ee176686-c117-456f-a50b-2b5d7cd83ed4"
      },
      "outputs": [],
      "source": [
        "peso = [[118,117,114,110], [84.5,81.3,82,81]]"
      ]
    },
    {
      "cell_type": "code",
      "execution_count": 179,
      "id": "3de7fdfd-e966-4099-a6d7-f49489467197",
      "metadata": {
        "id": "3de7fdfd-e966-4099-a6d7-f49489467197"
      },
      "outputs": [],
      "source": [
        "peso = [[118,117,114,110],\n",
        " [84.5,81.3,82,81]]"
      ]
    },
    {
      "cell_type": "markdown",
      "id": "97f237d9-fce6-4753-a5fd-72fef478a5ac",
      "metadata": {
        "id": "97f237d9-fce6-4753-a5fd-72fef478a5ac"
      },
      "source": [
        "# 5.8.- Visualización de Datos Estáticos"
      ]
    },
    {
      "cell_type": "markdown",
      "id": "660fc61f-303f-4b13-8aa3-8b4daf7c0ef3",
      "metadata": {
        "id": "660fc61f-303f-4b13-8aa3-8b4daf7c0ef3"
      },
      "source": [
        "Importa las librerias"
      ]
    },
    {
      "cell_type": "code",
      "execution_count": 181,
      "id": "84c07484-465f-4cf1-8e52-3743285474fa",
      "metadata": {
        "id": "84c07484-465f-4cf1-8e52-3743285474fa"
      },
      "outputs": [],
      "source": [
        "import matplotlib.pyplot as plt\n",
        "import numpy as np\n",
        "import random\n",
        "import seaborn as sns"
      ]
    },
    {
      "cell_type": "markdown",
      "id": "04883860-0fef-4cb9-87c1-3c36fb79b907",
      "metadata": {
        "id": "04883860-0fef-4cb9-87c1-3c36fb79b907"
      },
      "source": [
        "Crea la grafica de barras incial"
      ]
    },
    {
      "cell_type": "code",
      "execution_count": 184,
      "id": "3ff659a1-2b4d-4b9e-bf18-87c1fad11f32",
      "metadata": {
        "id": "3ff659a1-2b4d-4b9e-bf18-87c1fad11f32"
      },
      "outputs": [],
      "source": [
        "tirosdados = [random.randrange(1, 7) for i in range(600)]"
      ]
    },
    {
      "cell_type": "code",
      "source": [
        "valores, frecuencias = np.unique(tirosdados, return_counts=True)"
      ],
      "metadata": {
        "id": "_pnBi7mYP_h2"
      },
      "id": "_pnBi7mYP_h2",
      "execution_count": 185,
      "outputs": []
    },
    {
      "cell_type": "code",
      "source": [
        "titulo = f'Resultados de tirar los dados {len(tirosdados)} veces'"
      ],
      "metadata": {
        "id": "BkxdULAsQCpB"
      },
      "id": "BkxdULAsQCpB",
      "execution_count": 186,
      "outputs": []
    },
    {
      "cell_type": "markdown",
      "id": "b25012b0-d5b0-4a5c-ac57-12cb2090fa44",
      "metadata": {
        "id": "b25012b0-d5b0-4a5c-ac57-12cb2090fa44"
      },
      "source": [
        "Pon la ventana y etiqueta los ejes"
      ]
    },
    {
      "cell_type": "code",
      "execution_count": 187,
      "id": "e3944641-253b-4ac3-84ed-e02f9e38c965",
      "metadata": {
        "id": "e3944641-253b-4ac3-84ed-e02f9e38c965"
      },
      "outputs": [],
      "source": [
        "sns.set_style('whitegrid')"
      ]
    },
    {
      "cell_type": "code",
      "execution_count": 192,
      "id": "a61601ae-ab53-4e23-b0c8-1711fcf344a2",
      "metadata": {
        "id": "a61601ae-ab53-4e23-b0c8-1711fcf344a2",
        "colab": {
          "base_uri": "https://localhost:8080/",
          "height": 517
        },
        "outputId": "7ef1d3b2-91c2-4620-c038-768c512ca041"
      },
      "outputs": [
        {
          "output_type": "stream",
          "name": "stderr",
          "text": [
            "<ipython-input-192-06ed8a059d5d>:1: FutureWarning: \n",
            "\n",
            "Passing `palette` without assigning `hue` is deprecated and will be removed in v0.14.0. Assign the `x` variable to `hue` and set `legend=False` for the same effect.\n",
            "\n",
            "  axes = sns.barplot(x=valores, y=frecuencias, palette='bright')\n"
          ]
        },
        {
          "output_type": "display_data",
          "data": {
            "text/plain": [
              "<Figure size 640x480 with 1 Axes>"
            ],
            "image/png": "[encoded data removed]"
          },
          "metadata": {}
        }
      ],
      "source": [
        "axes = sns.barplot(x=valores, y=frecuencias, palette='bright')"
      ]
    },
    {
      "cell_type": "code",
      "execution_count": 189,
      "id": "dc8e8755-5bb7-4c73-aefc-86149f29d89f",
      "metadata": {
        "id": "dc8e8755-5bb7-4c73-aefc-86149f29d89f",
        "colab": {
          "base_uri": "https://localhost:8080/"
        },
        "outputId": "33efb1ad-dbca-44bf-9629-5d224f0330dd"
      },
      "outputs": [
        {
          "output_type": "execute_result",
          "data": {
            "text/plain": [
              "(0.0, 127.60000000000001)"
            ]
          },
          "metadata": {},
          "execution_count": 189
        }
      ],
      "source": [
        "# Configurar el título y las etiquetas de los ejes\n",
        "axes.set_title(titulo)\n",
        "axes.set(xlabel='Valores', ylabel='Frecuencias')\n",
        "\n",
        "# Ajustar el límite superior del eje Y para mejor visualización\n",
        "axes.set_ylim(top=max(frecuencias)*1.10)\n"
      ]
    },
    {
      "cell_type": "markdown",
      "id": "5072413f-bc1e-4cc6-a115-1f307801dfb4",
      "metadata": {
        "id": "5072413f-bc1e-4cc6-a115-1f307801dfb4"
      },
      "source": [
        "Finaliza la grafica de barras"
      ]
    },
    {
      "cell_type": "code",
      "execution_count": 190,
      "id": "a2c59038-d30f-4391-a1e7-d46270f939c8",
      "metadata": {
        "id": "a2c59038-d30f-4391-a1e7-d46270f939c8"
      },
      "outputs": [],
      "source": [
        "# Añadir los números de las frecuencias y los porcentajes sobre cada barra\n",
        "for bar, frecuencia in zip(axes.patches, frecuencias):\n",
        "    text_x = bar.get_x() + bar.get_width() / 2.0\n",
        "    text_y = bar.get_height()\n",
        "    text = f'{frecuencia:,}\\n{frecuencia/len(tirosdados):.3%}'\n",
        "    axes.text(text_x, text_y, text, fontsize=11, ha='center', va='bottom')\n"
      ]
    },
    {
      "cell_type": "code",
      "execution_count": 191,
      "id": "e00e14b3-9fbc-4c71-873b-59ffa9c9d801",
      "metadata": {
        "id": "e00e14b3-9fbc-4c71-873b-59ffa9c9d801"
      },
      "outputs": [],
      "source": [
        "plt.show()"
      ]
    },
    {
      "cell_type": "markdown",
      "id": "1bdc0a7a-3035-4f6d-80ae-d09c823a3df5",
      "metadata": {
        "id": "1bdc0a7a-3035-4f6d-80ae-d09c823a3df5"
      },
      "source": [
        "Tira de nuevo usando magia"
      ]
    },
    {
      "cell_type": "code",
      "source": [
        "%run <nombre_del_script>.py"
      ],
      "metadata": {
        "id": "F2jw5ksPQkwd"
      },
      "id": "F2jw5ksPQkwd",
      "execution_count": null,
      "outputs": []
    },
    {
      "cell_type": "markdown",
      "id": "061e56bc-62f3-435a-ae25-2e8dbab3a066",
      "metadata": {
        "id": "061e56bc-62f3-435a-ae25-2e8dbab3a066"
      },
      "source": [
        "Guarda tu programa usando magia"
      ]
    },
    {
      "cell_type": "code",
      "execution_count": 193,
      "id": "8227b0d0-539a-47a4-ac77-87fb8afd0ec0",
      "metadata": {
        "id": "8227b0d0-539a-47a4-ac77-87fb8afd0ec0",
        "colab": {
          "base_uri": "https://localhost:8080/",
          "height": 559
        },
        "outputId": "bc180a1b-7c82-4452-e9f0-0eb29e50a98f"
      },
      "outputs": [
        {
          "output_type": "stream",
          "name": "stderr",
          "text": [
            "<ipython-input-193-44596428cfa3>:19: FutureWarning: \n",
            "\n",
            "Passing `palette` without assigning `hue` is deprecated and will be removed in v0.14.0. Assign the `x` variable to `hue` and set `legend=False` for the same effect.\n",
            "\n",
            "  axes = sns.barplot(x=valores, y=frecuencias, palette='bright')\n"
          ]
        },
        {
          "output_type": "display_data",
          "data": {
            "text/plain": [
              "<Figure size 640x480 with 1 Axes>"
            ],
            "image/png": "[encoded data removed]"
          },
          "metadata": {}
        }
      ],
      "source": [
        "\n",
        "import matplotlib.pyplot as plt\n",
        "import numpy as np\n",
        "import random\n",
        "import seaborn as sns\n",
        "\n",
        "# Generar los resultados de 600 tiros de dado\n",
        "tirosdados = [random.randrange(1, 7) for i in range(600)]\n",
        "\n",
        "# Obtener los valores únicos y sus frecuencias\n",
        "valores, frecuencias = np.unique(tirosdados, return_counts=True)\n",
        "\n",
        "# Crear el título para la gráfica\n",
        "titulo = f'Resultados de tirar los dados {len(tirosdados)} veces'\n",
        "\n",
        "# Configurar el estilo de la gráfica\n",
        "sns.set_style('whitegrid')\n",
        "\n",
        "# Crear la gráfica de barras\n",
        "axes = sns.barplot(x=valores, y=frecuencias, palette='bright')\n",
        "\n",
        "# Configurar el título y las etiquetas de los ejes\n",
        "axes.set_title(titulo)\n",
        "axes.set(xlabel='Valores', ylabel='Frecuencias')\n",
        "\n",
        "# Ajustar el límite superior del eje Y para mejor visualización\n",
        "axes.set_ylim(top=max(frecuencias)*1.10)\n",
        "\n",
        "# Añadir los números de las frecuencias y los porcentajes sobre cada barra\n",
        "for bar, frecuencia in zip(axes.patches, frecuencias):\n",
        "    text_x = bar.get_x() + bar.get_width() / 2.0\n",
        "    text_y = bar.get_height()\n",
        "    text = f'{frecuencia:,}\\n{frecuencia/len(tirosdados):.3%}'\n",
        "    axes.text(text_x, text_y, text, fontsize=11, ha='center', va='bottom')\n",
        "\n",
        "# Mostrar la gráfica\n",
        "plt.show()\n"
      ]
    }
  ],
  "metadata": {
    "kernelspec": {
      "display_name": "Python 3",
      "language": "python",
      "name": "python3"
    },
    "language_info": {
      "codemirror_mode": {
        "name": "ipython",
        "version": 3
      },
      "file_extension": ".py",
      "mimetype": "text/x-python",
      "name": "python",
      "nbconvert_exporter": "python",
      "pygments_lexer": "ipython3",
      "version": "3.8.8"
    },
    "colab": {
      "provenance": []
    }
  },
  "nbformat": 4,
  "nbformat_minor": 5
}