{
  "cells": [
    {
      "cell_type": "markdown",
      "id": "69901415-871c-4128-94ba-7cb605818be1",
      "metadata": {
        "id": "69901415-871c-4128-94ba-7cb605818be1"
      },
      "source": [
        "# 4.- Funciones"
      ]
    },
    {
      "cell_type": "markdown",
      "id": "82a4386e-b878-475e-b82d-03dbcb9d44d3",
      "metadata": {
        "id": "82a4386e-b878-475e-b82d-03dbcb9d44d3"
      },
      "source": [
        "## 4.2.- Función def"
      ]
    },
    {
      "cell_type": "markdown",
      "id": "8e864b12-a5a9-4cde-b565-a59929d9d7eb",
      "metadata": {
        "id": "8e864b12-a5a9-4cde-b565-a59929d9d7eb"
      },
      "source": [
        "Vamos a comenzar creando una funcion que tome un número y devuelva su raiz cuadrada"
      ]
    },
    {
      "cell_type": "code",
      "execution_count": null,
      "id": "c555a87f-f94f-4dfb-ac88-4bd40e1f2c96",
      "metadata": {
        "id": "c555a87f-f94f-4dfb-ac88-4bd40e1f2c96"
      },
      "outputs": [],
      "source": [
        "def raiz_cuad(número):\n",
        "  return número**(1/2)"
      ]
    },
    {
      "cell_type": "code",
      "execution_count": null,
      "id": "315753b7-f2b8-46d8-a61c-499e912f468a",
      "metadata": {
        "colab": {
          "base_uri": "https://localhost:8080/"
        },
        "id": "315753b7-f2b8-46d8-a61c-499e912f468a",
        "outputId": "afac58ec-46cd-40c6-aa1c-0369ce8f8ee4"
      },
      "outputs": [
        {
          "output_type": "execute_result",
          "data": {
            "text/plain": [
              "7.0"
            ]
          },
          "metadata": {},
          "execution_count": 3
        }
      ],
      "source": [
        "raiz_cuad(49)"
      ]
    },
    {
      "cell_type": "markdown",
      "id": "a034c45f-dd3c-4e3b-b4b5-4c266b7eb003",
      "metadata": {
        "id": "a034c45f-dd3c-4e3b-b4b5-4c266b7eb003"
      },
      "source": [
        "Las funciones también las podemos llamar desde otras expresiones como print"
      ]
    },
    {
      "cell_type": "code",
      "source": [
        "print(raiz_cuad(49))"
      ],
      "metadata": {
        "id": "ypMYuYd0T3v8"
      },
      "id": "ypMYuYd0T3v8",
      "execution_count": null,
      "outputs": []
    },
    {
      "cell_type": "code",
      "execution_count": null,
      "id": "24499624-16fa-4b44-b50d-a0a77dd65543",
      "metadata": {
        "id": "24499624-16fa-4b44-b50d-a0a77dd65543"
      },
      "outputs": [],
      "source": [
        "print(raiz_cuad(36))"
      ]
    },
    {
      "cell_type": "markdown",
      "id": "5fa7a304-a3ac-49f8-a9c7-985ff3cd4738",
      "metadata": {
        "id": "5fa7a304-a3ac-49f8-a9c7-985ff3cd4738"
      },
      "source": [
        "Muchas funciones podemos ? para saber como se usa la función"
      ]
    },
    {
      "cell_type": "code",
      "execution_count": null,
      "id": "48187ac5-0ca4-4412-9b2c-8dc240a0a891",
      "metadata": {
        "id": "48187ac5-0ca4-4412-9b2c-8dc240a0a891"
      },
      "outputs": [],
      "source": [
        "raiz_cuad?"
      ]
    },
    {
      "cell_type": "markdown",
      "id": "55e03a1c-54ea-4685-b6e0-1880a7073360",
      "metadata": {
        "id": "55e03a1c-54ea-4685-b6e0-1880a7073360"
      },
      "source": [
        "#### Por tu cuenta\n",
        "\n",
        "Define una función que calcule la raiz cubica de un numero dado"
      ]
    },
    {
      "cell_type": "code",
      "execution_count": null,
      "id": "3e9e8b00-c189-400d-b1ba-467fe444b379",
      "metadata": {
        "id": "3e9e8b00-c189-400d-b1ba-467fe444b379"
      },
      "outputs": [],
      "source": [
        "numero = 8"
      ]
    },
    {
      "cell_type": "code",
      "execution_count": null,
      "id": "3b7ece1c-8e0a-4ea0-8166-64dd75e4661a",
      "metadata": {
        "colab": {
          "base_uri": "https://localhost:8080/"
        },
        "id": "3b7ece1c-8e0a-4ea0-8166-64dd75e4661a",
        "outputId": "ca1e9a48-c191-498f-acdd-f50d1f5b6606"
      },
      "outputs": [
        {
          "output_type": "execute_result",
          "data": {
            "text/plain": [
              "2.0"
            ]
          },
          "metadata": {},
          "execution_count": 7
        }
      ],
      "source": [
        "def raiz_cubica(numero):\n",
        "    return numero ** (1/3)\n",
        "\n",
        "\n",
        "resultado = raiz_cubica(numero)\n",
        "resultado"
      ]
    },
    {
      "cell_type": "markdown",
      "id": "dc1856d4-be0c-4cc6-b217-10fb4bab5fe6",
      "metadata": {
        "id": "dc1856d4-be0c-4cc6-b217-10fb4bab5fe6"
      },
      "source": [
        "## 4.3.- Funciones con Múltiples Parámetros"
      ]
    },
    {
      "cell_type": "markdown",
      "id": "1f12cc0d-bd8e-45a9-b1b8-f976783ccf4f",
      "metadata": {
        "id": "1f12cc0d-bd8e-45a9-b1b8-f976783ccf4f"
      },
      "source": [
        "Ahora armaremos una función usando IF que nos dice cual es la raiz cuadrada más grande de 3 números"
      ]
    },
    {
      "cell_type": "code",
      "execution_count": null,
      "id": "8f4f0077-7108-42ce-942e-e12ee8744582",
      "metadata": {
        "id": "8f4f0077-7108-42ce-942e-e12ee8744582"
      },
      "outputs": [],
      "source": [
        "def raiz_min(num1,num2,num3):\n",
        "  r_num1=num1**(1/2)\n",
        "  r_num2=num2**(1/2)\n",
        "  r_num3=num3**(1/2)\n",
        "  raiz_min=r_num1\n",
        "  if r_num2<raiz_min:\n",
        "    raiz_min=r_num2\n",
        "  if r_num3<raiz_min:\n",
        "    raiz_min=r_num3\n",
        "  return raiz_min"
      ]
    },
    {
      "cell_type": "code",
      "execution_count": null,
      "id": "8d9ccb53-92c1-4ff9-9202-543fa6c640d3",
      "metadata": {
        "colab": {
          "base_uri": "https://localhost:8080/"
        },
        "id": "8d9ccb53-92c1-4ff9-9202-543fa6c640d3",
        "outputId": "536306bc-a2e3-4886-d157-2980fd480562"
      },
      "outputs": [
        {
          "output_type": "execute_result",
          "data": {
            "text/plain": [
              "2.0"
            ]
          },
          "metadata": {},
          "execution_count": 19
        }
      ],
      "source": [
        "raiz_min(9,25,4)"
      ]
    },
    {
      "cell_type": "markdown",
      "id": "21bdb948-fa7a-4c21-9acb-6ae8266aa3e6",
      "metadata": {
        "id": "21bdb948-fa7a-4c21-9acb-6ae8266aa3e6"
      },
      "source": [
        "Por si las dudas, esto se podría haber simplificado usando Max y Min"
      ]
    },
    {
      "cell_type": "code",
      "execution_count": null,
      "id": "8a495cc4-00c7-4cfb-9d0c-c35dea9683ae",
      "metadata": {
        "colab": {
          "base_uri": "https://localhost:8080/"
        },
        "id": "8a495cc4-00c7-4cfb-9d0c-c35dea9683ae",
        "outputId": "dbb6124d-72b3-48af-b709-debce1b737bc"
      },
      "outputs": [
        {
          "output_type": "execute_result",
          "data": {
            "text/plain": [
              "8.54400374531753"
            ]
          },
          "metadata": {},
          "execution_count": 20
        }
      ],
      "source": [
        "raiz_min(74,73,75)"
      ]
    },
    {
      "cell_type": "code",
      "execution_count": null,
      "id": "1242a788-f538-4949-a483-8bbdb57ec9f8",
      "metadata": {
        "colab": {
          "base_uri": "https://localhost:8080/"
        },
        "id": "1242a788-f538-4949-a483-8bbdb57ec9f8",
        "outputId": "6203c3cd-d63c-4a52-8c01-3b9b6ac7d02d"
      },
      "outputs": [
        {
          "output_type": "execute_result",
          "data": {
            "text/plain": [
              "0.0"
            ]
          },
          "metadata": {},
          "execution_count": 21
        }
      ],
      "source": [
        "raiz_min(7.5,0.3,0)"
      ]
    },
    {
      "cell_type": "markdown",
      "id": "83d18c4c-e99c-4f4c-a0dc-41b41f50c6ed",
      "metadata": {
        "id": "83d18c4c-e99c-4f4c-a0dc-41b41f50c6ed"
      },
      "source": [
        "#### Por tu cuenta\n",
        "\n",
        "Llama la función max con la lista 15,82,13,55 como argumento, yluego la min con la palabara amarillo como argumento"
      ]
    },
    {
      "cell_type": "markdown",
      "id": "2d356f80-2d18-4849-a3dd-4253cb4edcd6",
      "metadata": {
        "id": "2d356f80-2d18-4849-a3dd-4253cb4edcd6"
      },
      "source": [
        "## 4.4.- Números aleatorios"
      ]
    },
    {
      "cell_type": "markdown",
      "id": "c7ad0802-525b-4399-8fc7-454593d86ae9",
      "metadata": {
        "id": "c7ad0802-525b-4399-8fc7-454593d86ae9"
      },
      "source": [
        "Vamos a simular el lanzamiento de una moneda (cara o cruz), usemos la biblioteca random y simulemos 10 tiros"
      ]
    },
    {
      "cell_type": "code",
      "execution_count": null,
      "id": "3a8bd37e-3b1a-499b-88c3-c3063b1c2f72",
      "metadata": {
        "id": "3a8bd37e-3b1a-499b-88c3-c3063b1c2f72"
      },
      "outputs": [],
      "source": [
        "import random"
      ]
    },
    {
      "cell_type": "code",
      "execution_count": null,
      "id": "efd3d47a-b8cb-4e82-ac33-b7802b1cdd40",
      "metadata": {
        "colab": {
          "base_uri": "https://localhost:8080/"
        },
        "id": "efd3d47a-b8cb-4e82-ac33-b7802b1cdd40",
        "outputId": "88aa82c5-38af-456b-a6a2-e7f62355e229"
      },
      "outputs": [
        {
          "output_type": "stream",
          "name": "stdout",
          "text": [
            "0 0 0 1 0 1 0 1 1 0 "
          ]
        }
      ],
      "source": [
        "for tirada in range(10):\n",
        " print(random.randrange(0,2),end=' ')"
      ]
    },
    {
      "cell_type": "markdown",
      "id": "05cefe11-289a-44e2-a987-b443cce37ce3",
      "metadata": {
        "id": "05cefe11-289a-44e2-a987-b443cce37ce3"
      },
      "source": [
        "Ejecutalo de nuevo, checa como ahora tenemos diferentes resultados"
      ]
    },
    {
      "cell_type": "markdown",
      "id": "4e02ace3-df9d-41aa-87bd-6fd2daa2d0a4",
      "metadata": {
        "id": "4e02ace3-df9d-41aa-87bd-6fd2daa2d0a4"
      },
      "source": [
        "Ahora vamos a escribir un código que simule el lanzamiento de una moneda 100,000 veces. No vamos a mostrar 100,000 resultados, solo una pequeña tabla con todas las caras y todas la cruces"
      ]
    },
    {
      "cell_type": "code",
      "execution_count": null,
      "id": "70ee75bc-9a07-4c56-af3b-38cc3efcd256",
      "metadata": {
        "id": "70ee75bc-9a07-4c56-af3b-38cc3efcd256"
      },
      "outputs": [],
      "source": [
        "import random\n",
        "\n",
        "# Contadores para las frecuencias\n",
        "frecuencias_unos = 0\n",
        "frecuencias_ceros = 0\n",
        "\n",
        "for tirada in range(100_000):\n",
        "    resultado = random.randrange(0, 2)\n",
        "    if resultado == 1:\n",
        "        frecuencias_unos += 1\n",
        "    else:\n",
        "        frecuencias_ceros += 1\n",
        "\n",
        "print(f'1=Cara,0=Cruz{\"Frecuencia\":>13}')\n",
        "print(f'{1:>14}{frecuencias_unos:>13}')\n",
        "print(f'{0:>14}{frecuencias_ceros:>13}')\n"
      ]
    },
    {
      "cell_type": "markdown",
      "id": "5ac8c289-07af-4305-a7b0-a47f551d142a",
      "metadata": {
        "id": "5ac8c289-07af-4305-a7b0-a47f551d142a"
      },
      "source": [
        "Si queremos obligar a que random sieeeempre nos de los mismos resultados, podemos usar seed. Arma una semilla de 25 y ejecuta el código 2 veces, checa como se repita (seed necesita repetirse 2 veces tmb)"
      ]
    },
    {
      "cell_type": "code",
      "execution_count": null,
      "id": "06562bd7-2288-4e71-b817-55aeae5017b4",
      "metadata": {
        "colab": {
          "base_uri": "https://localhost:8080/"
        },
        "id": "06562bd7-2288-4e71-b817-55aeae5017b4",
        "outputId": "29117814-e4eb-404b-d92c-83090a523e97"
      },
      "outputs": [
        {
          "output_type": "stream",
          "name": "stdout",
          "text": [
            "0 0 1 0 1 1 1 1 0 0 "
          ]
        }
      ],
      "source": [
        "random.seed(1)\n",
        "for tirada in range(10):\n",
        "  print(random.randrange(0,2),end=' ')"
      ]
    },
    {
      "cell_type": "markdown",
      "id": "ae4f4e14-ebd5-45f8-a8e4-9b31641a0af1",
      "metadata": {
        "id": "ae4f4e14-ebd5-45f8-a8e4-9b31641a0af1"
      },
      "source": [
        "Es momento de jugar a \"El Gran 8\".\n",
        "\n",
        "Lo primero será lanzar un par de dados - arma una función que simule 2 dados y devuelva los valores que cayeron"
      ]
    },
    {
      "cell_type": "code",
      "execution_count": null,
      "id": "07d2eda1-61af-4814-89da-822a1cb05e01",
      "metadata": {
        "id": "07d2eda1-61af-4814-89da-822a1cb05e01"
      },
      "outputs": [],
      "source": [
        "import random\n",
        "\n",
        "def lanzar_dados():\n",
        "    dado1 = random.randrange(1,7)\n",
        "    dado2 = random.randrange(1,7)\n",
        "    return(dado1, dado2)\n"
      ]
    },
    {
      "cell_type": "markdown",
      "id": "6c524cee-4fb0-496d-b33b-343a1b9d6d62",
      "metadata": {
        "id": "6c524cee-4fb0-496d-b33b-343a1b9d6d62"
      },
      "source": [
        "Ahora arma una función que muestre la suma de los resultados de los 2 dados"
      ]
    },
    {
      "cell_type": "code",
      "execution_count": null,
      "id": "f64c316a-f793-41ed-a4c0-68d014fbe816",
      "metadata": {
        "id": "f64c316a-f793-41ed-a4c0-68d014fbe816"
      },
      "outputs": [],
      "source": [
        "\n",
        "def mostrar_dados(dado):\n",
        "    dado1, dado2 = dado\n",
        "    print(f'Resultado de la jugada {dado1}+{dado2}={sum(dado)}')"
      ]
    },
    {
      "cell_type": "markdown",
      "id": "c5eb4532-dce4-4397-b753-223bb5030a8f",
      "metadata": {
        "id": "c5eb4532-dce4-4397-b753-223bb5030a8f"
      },
      "source": [
        "Ahora necesitamos una variable que almacene el resutlado de lanzar los dados (funcion 1) y otra que sume los resultados de la función 1."
      ]
    },
    {
      "cell_type": "code",
      "execution_count": null,
      "id": "9f51af4c-2def-494b-b7a2-9201414a4019",
      "metadata": {
        "id": "9f51af4c-2def-494b-b7a2-9201414a4019"
      },
      "outputs": [],
      "source": [
        "valores_logrados = lanzar_dados()\n",
        "suma_dados = sum(valores_logrados)\n",
        "mostrar_dados(valores_logrados)\n"
      ]
    },
    {
      "cell_type": "markdown",
      "id": "21576096-58ea-4bd7-9e1b-bbe197aa08f2",
      "metadata": {
        "id": "21576096-58ea-4bd7-9e1b-bbe197aa08f2"
      },
      "source": [
        "Ahora, vamos  a simular las consecuencias del primer tiro - si la suma es 8, ganaste, si es 7, perdiste, y si no, continuamos"
      ]
    },
    {
      "cell_type": "code",
      "execution_count": null,
      "id": "b35649ce-62bb-48fe-904a-089dccb42867",
      "metadata": {
        "id": "b35649ce-62bb-48fe-904a-089dccb42867"
      },
      "outputs": [],
      "source": [
        "if suma_dados == 8:\n",
        "    status_jugador = 'Ganaste'\n",
        "elif suma_dados == 7:\n",
        "    status_jugador = 'Perdiste'\n",
        "else:\n",
        "    status_jugador = 'Continuar'\n"
      ]
    },
    {
      "cell_type": "markdown",
      "id": "34507a56-d650-4156-b1f2-d485a9b3634e",
      "metadata": {
        "id": "34507a56-d650-4156-b1f2-d485a9b3634e"
      },
      "source": [
        "Y ahora con un bucle vamos a seguir el juego, se relanzan los dados y si se hace un bucle while que mientras que no haya un resultado de 6,8, o 7, se sigue tirando, si no se define si se ganó o se perdió"
      ]
    },
    {
      "cell_type": "code",
      "execution_count": null,
      "id": "0142cde5-6158-4c73-bbf4-e2d48efcd532",
      "metadata": {
        "id": "0142cde5-6158-4c73-bbf4-e2d48efcd532"
      },
      "outputs": [],
      "source": [
        "print('Sigue probando, encuentra al Gran 8')\n",
        "\n",
        "while status_jugador == 'Continuar':\n",
        "    valores_logrados = lanzar_dados()\n",
        "    mostrar_dados(valores_logrados)\n",
        "    suma_dados = sum(valores_logrados)\n",
        "    if suma_dados in (6, 8):\n",
        "        status_jugador = 'Ganaste'\n",
        "    elif suma_dados == 7:\n",
        "        status_jugador = 'Perdiste'\n",
        "\n",
        "if status_jugador == 'Ganaste':\n",
        "    print('Ganaste')\n",
        "else:\n",
        "    print('Perdiste')\n"
      ]
    },
    {
      "cell_type": "markdown",
      "id": "e330a41d-998a-4dd8-a8b9-51d255f0464d",
      "metadata": {
        "id": "e330a41d-998a-4dd8-a8b9-51d255f0464d"
      },
      "source": [
        "Ahora unifica todo el código"
      ]
    },
    {
      "cell_type": "code",
      "source": [
        "import random\n",
        "\n",
        "def lanzar_dados():\n",
        "    dado1 = random.randrange(1,7)\n",
        "    dado2 = random.randrange(1,7)\n",
        "    return(dado1, dado2)\n",
        "\n",
        "def mostrar_dados(dado):\n",
        "    dado1, dado2 = dado\n",
        "    print(f'Resultado de la jugada {dado1}+{dado2}={sum(dado)}')\n",
        "\n",
        "valores_logrados = lanzar_dados()\n",
        "mostrar_dados(valores_logrados)\n",
        "suma_dados = sum(valores_logrados)\n",
        "\n",
        "if suma_dados in (8):\n",
        "    status_jugador = 'Ganaste'\n",
        "elif suma_dados == 7:\n",
        "    status_jugador = 'Perdiste'\n",
        "else:\n",
        "    status_jugador = 'Continuar'\n",
        "\n",
        "print('Sigue probando, encuentra al Gran 8')\n",
        "\n",
        "while status_jugador == 'Continuar':\n",
        "    valores_logrados = lanzar_dados()\n",
        "    mostrar_dados(valores_logrados)\n",
        "    suma_dados = sum(valores_logrados)\n",
        "    if suma_dados in (6, 8):\n",
        "        status_jugador = 'Ganaste'\n",
        "    elif suma_dados == 7:\n",
        "        status_jugador = 'Perdiste'\n",
        "\n",
        "if status_jugador == 'Ganaste':\n",
        "    print('Ganaste')\n",
        "else:\n",
        "    print('Perdiste')\n"
      ],
      "metadata": {
        "id": "zuA51MyzXrtb"
      },
      "id": "zuA51MyzXrtb",
      "execution_count": null,
      "outputs": []
    },
    {
      "cell_type": "markdown",
      "id": "6c9e079c-3683-4901-a856-0bc24d2ea3b5",
      "metadata": {
        "id": "6c9e079c-3683-4901-a856-0bc24d2ea3b5"
      },
      "source": [
        "#### Por tu cuenta\n",
        "\n",
        "Usa un bucle for, randrange y una expresión condicional para simular 20 tiros de moneda, mosrando A para águila y S para Sello"
      ]
    },
    {
      "cell_type": "code",
      "execution_count": null,
      "id": "24ea22a4-3fea-416b-af85-6a026c4ca9e7",
      "metadata": {
        "id": "24ea22a4-3fea-416b-af85-6a026c4ca9e7"
      },
      "outputs": [],
      "source": [
        "import random\n",
        "\n",
        "for _ in range(20):\n",
        "    resultado = random.randrange(0, 2)  # 0 para Águila, 1 para Sello\n",
        "    print(\"A\" if resultado == 0 else \"S\")\n"
      ]
    },
    {
      "cell_type": "markdown",
      "id": "902a0cb5-4b49-40f2-b285-afd87b760f18",
      "metadata": {
        "id": "902a0cb5-4b49-40f2-b285-afd87b760f18"
      },
      "source": [
        "## 4.5.- Funciones sin parámetros y múltiples parámetros"
      ]
    },
    {
      "cell_type": "markdown",
      "id": "71dd025d-bf4b-4c68-99b5-0cb72614740e",
      "metadata": {
        "id": "71dd025d-bf4b-4c68-99b5-0cb72614740e"
      },
      "source": [
        "def raizcuadra(numero):\n",
        "    \"\"\"Esta función saca la raiz cuadra de un número\"\"\"\n",
        "    return numero ** (1/2)Se acuerdan de la primer funcion que hicimos? Que pasa si la corremos sin parametro?"
      ]
    },
    {
      "cell_type": "code",
      "execution_count": null,
      "id": "e381d145-b1cb-46c5-99b9-9f83e90964bd",
      "metadata": {
        "id": "e381d145-b1cb-46c5-99b9-9f83e90964bd"
      },
      "outputs": [],
      "source": [
        "def raiz_cuad(número):\n",
        " \"\"\"Calcula la raíz cuadrada de un número.\"\"\"\n",
        " return número**(1/2)"
      ]
    },
    {
      "cell_type": "code",
      "execution_count": null,
      "id": "4b642fdf-9360-4196-9a89-c717e6bf1bda",
      "metadata": {
        "id": "4b642fdf-9360-4196-9a89-c717e6bf1bda"
      },
      "outputs": [],
      "source": [
        "raiz_cuad(49)"
      ]
    },
    {
      "cell_type": "markdown",
      "id": "010114c1-509a-4cc1-a388-ca28850d9932",
      "metadata": {
        "id": "010114c1-509a-4cc1-a388-ca28850d9932"
      },
      "source": [
        "Asigna un parametro estandar para evitar este error"
      ]
    },
    {
      "cell_type": "markdown",
      "id": "6c3d4102-a3b3-40de-a916-1df8e54b4a29",
      "metadata": {
        "id": "6c3d4102-a3b3-40de-a916-1df8e54b4a29"
      },
      "source": [
        "También, hay funciones que pueden aceptar una cantidad indefinida de parametros - arma una función llamada promedio_calif que te diga el promedio de una cantidad arbitraria de calificaciones"
      ]
    },
    {
      "cell_type": "code",
      "execution_count": null,
      "id": "a3fc7b58-87e9-441e-9772-14f961c0f1b4",
      "metadata": {
        "id": "a3fc7b58-87e9-441e-9772-14f961c0f1b4"
      },
      "outputs": [],
      "source": [
        "def promedio_calif(*calif):\n",
        " return sum(calif)/len(calif)"
      ]
    },
    {
      "cell_type": "code",
      "execution_count": null,
      "id": "27b2e996-20e0-4093-99f6-dbf330689d39",
      "metadata": {
        "id": "27b2e996-20e0-4093-99f6-dbf330689d39"
      },
      "outputs": [],
      "source": [
        "promedio_calif(9,8,8,9.5,9.7,10,6)"
      ]
    },
    {
      "cell_type": "markdown",
      "id": "e3f6b2e9-4ed4-4c34-81b1-e60ca1b59bff",
      "metadata": {
        "id": "e3f6b2e9-4ed4-4c34-81b1-e60ca1b59bff"
      },
      "source": [
        "#### Por tu cuenta\n",
        "\n",
        "Arma una función que reciba una cantidad arbitraria de argumentos y calcule el producto de multiplicarlos todos entre ellos"
      ]
    },
    {
      "cell_type": "code",
      "execution_count": null,
      "id": "1e1d13b9-3cb1-43e5-9cf9-b6da52643a78",
      "metadata": {
        "id": "1e1d13b9-3cb1-43e5-9cf9-b6da52643a78"
      },
      "outputs": [],
      "source": [
        "def producto_todos(*args):\n",
        "    producto = 1\n",
        "    for numero in args:\n",
        "        producto *= numero\n",
        "    return producto\n"
      ]
    },
    {
      "cell_type": "code",
      "execution_count": null,
      "id": "0be5568a-6d23-4fcb-bbde-8c8fd120828d",
      "metadata": {
        "id": "0be5568a-6d23-4fcb-bbde-8c8fd120828d"
      },
      "outputs": [],
      "source": [
        "resultado = producto_todos(2, 3, 4)\n",
        "print(resultado)  # Imprime 24, porque 2 * 3 * 4 = 24\n"
      ]
    },
    {
      "cell_type": "markdown",
      "id": "6892461b-49af-466b-b947-2e649586b5d5",
      "metadata": {
        "id": "6892461b-49af-466b-b947-2e649586b5d5"
      },
      "source": [
        "## 4.6.- Alcance Local y Global"
      ]
    },
    {
      "cell_type": "markdown",
      "id": "1c759b58-4b0f-4e11-9a61-af3ee94a26e6",
      "metadata": {
        "id": "1c759b58-4b0f-4e11-9a61-af3ee94a26e6"
      },
      "source": [
        "Recordemos nuestra función de raiz cuadrada"
      ]
    },
    {
      "cell_type": "code",
      "execution_count": null,
      "id": "47693ade-1834-4d6f-b5d2-1582b62d02af",
      "metadata": {
        "id": "47693ade-1834-4d6f-b5d2-1582b62d02af"
      },
      "outputs": [],
      "source": [
        "def raiz_cuad(número = 1):\n",
        "  \"\"\"Calcula la raíz cuadrada de un número.\"\"\"\n",
        "  return número ** (1/2"
      ]
    },
    {
      "cell_type": "code",
      "execution_count": null,
      "id": "0fff8b16-95e3-4138-be6d-4e7296ba2535",
      "metadata": {
        "id": "0fff8b16-95e3-4138-be6d-4e7296ba2535"
      },
      "outputs": [],
      "source": [
        "raiz_cuad(64)"
      ]
    },
    {
      "cell_type": "code",
      "execution_count": null,
      "id": "390db399-8b11-49e4-9d96-09597a3ed6c4",
      "metadata": {
        "id": "390db399-8b11-49e4-9d96-09597a3ed6c4"
      },
      "outputs": [],
      "source": [
        "aprox_pi = 3.141"
      ]
    },
    {
      "cell_type": "code",
      "execution_count": null,
      "id": "d8fc0616-47e6-49d1-a9d3-b3509686734c",
      "metadata": {
        "id": "d8fc0616-47e6-49d1-a9d3-b3509686734c"
      },
      "outputs": [],
      "source": [
        "def acceso_global_pi():\n",
        " print('aprox_pi es llamada de acceso_global_pi como:',aprox_pi)\n"
      ]
    },
    {
      "cell_type": "code",
      "execution_count": null,
      "id": "3b536999-dbf9-4b0d-ba9e-ed349124837a",
      "metadata": {
        "id": "3b536999-dbf9-4b0d-ba9e-ed349124837a"
      },
      "outputs": [],
      "source": [
        "acceso_global_pi()"
      ]
    },
    {
      "cell_type": "code",
      "execution_count": null,
      "id": "9583cbc4-7839-4a44-b549-582437f1e17f",
      "metadata": {
        "id": "9583cbc4-7839-4a44-b549-582437f1e17f"
      },
      "outputs": [],
      "source": [
        "aprox_pi es llamada de acceso_global_pi como: 3.141"
      ]
    },
    {
      "cell_type": "code",
      "execution_count": null,
      "id": "f4dcf9c9-8e0f-41c3-9fe9-ba08e16b6666",
      "metadata": {
        "id": "f4dcf9c9-8e0f-41c3-9fe9-ba08e16b6666"
      },
      "outputs": [],
      "source": [
        "def intento_modificar_global_pi():\n",
        " aprox_pi=3.1416\n",
        " print('Modificación de aprox_pi como:',aprox_pi)"
      ]
    },
    {
      "cell_type": "code",
      "execution_count": null,
      "id": "c51d8d48-1463-4ebb-9cc5-87390cffed33",
      "metadata": {
        "id": "c51d8d48-1463-4ebb-9cc5-87390cffed33"
      },
      "outputs": [],
      "source": [
        "intento_modificar_acceso_global_pi()"
      ]
    },
    {
      "cell_type": "code",
      "execution_count": null,
      "id": "2398a2f5-66f1-40a8-9a14-8c01332cc77d",
      "metadata": {
        "id": "2398a2f5-66f1-40a8-9a14-8c01332cc77d"
      },
      "outputs": [],
      "source": [
        "Modificación de aprox_pi como: 3.1416"
      ]
    },
    {
      "cell_type": "code",
      "execution_count": null,
      "id": "c1821b5d-62f8-4b06-a3cc-51b3a6911f97",
      "metadata": {
        "id": "c1821b5d-62f8-4b06-a3cc-51b3a6911f97"
      },
      "outputs": [],
      "source": [
        "aprox_pi"
      ]
    },
    {
      "cell_type": "markdown",
      "id": "92d9d3b6-d1ae-480d-9026-b605aa24245f",
      "metadata": {
        "id": "92d9d3b6-d1ae-480d-9026-b605aa24245f"
      },
      "source": [
        "Define la variable aprox pi =3.141 y luego define una función que llame a esta variable de acceso global"
      ]
    },
    {
      "cell_type": "markdown",
      "id": "90a3042c-1f46-4ef1-9f19-9cae0aeae31f",
      "metadata": {
        "id": "90a3042c-1f46-4ef1-9f19-9cae0aeae31f"
      },
      "source": [
        "Intenta modificar aprox pi desde una función - verás que python no lo hace, solo modifica una copia"
      ]
    },
    {
      "cell_type": "markdown",
      "id": "5e3fc9f1-f1c8-419e-a7ad-ad015daa9ada",
      "metadata": {
        "id": "5e3fc9f1-f1c8-419e-a7ad-ad015daa9ada"
      },
      "source": [
        "## 4.7.- El módulo de matemáticas de Python"
      ]
    },
    {
      "cell_type": "markdown",
      "id": "66a15356-6461-4202-a7d0-56526d3c1536",
      "metadata": {
        "id": "66a15356-6461-4202-a7d0-56526d3c1536"
      },
      "source": [
        "Calcula el log10 de 1000"
      ]
    },
    {
      "cell_type": "code",
      "execution_count": null,
      "id": "d04ec048-5865-4040-a3f2-3b3cbcb1d40a",
      "metadata": {
        "id": "d04ec048-5865-4040-a3f2-3b3cbcb1d40a"
      },
      "outputs": [],
      "source": [
        "log10(1000)"
      ]
    },
    {
      "cell_type": "markdown",
      "id": "2db1131d-227b-46fe-aa43-ea83fd7ff1bc",
      "metadata": {
        "id": "2db1131d-227b-46fe-aa43-ea83fd7ff1bc"
      },
      "source": [
        "Importa la librería math"
      ]
    },
    {
      "cell_type": "code",
      "execution_count": null,
      "id": "4252d1a8-4e52-43d1-a5a4-045def644677",
      "metadata": {
        "id": "4252d1a8-4e52-43d1-a5a4-045def644677"
      },
      "outputs": [],
      "source": [
        "import math"
      ]
    },
    {
      "cell_type": "markdown",
      "id": "4cebaf0a-a127-4a90-971a-a306d39ebc10",
      "metadata": {
        "id": "4cebaf0a-a127-4a90-971a-a306d39ebc10"
      },
      "source": [
        "ahora si, calcula el log10 de 1000"
      ]
    },
    {
      "cell_type": "code",
      "execution_count": null,
      "id": "47bf2d24-fcb4-4907-92e7-af142e2afded",
      "metadata": {
        "id": "47bf2d24-fcb4-4907-92e7-af142e2afded"
      },
      "outputs": [],
      "source": [
        "math.log10(1000)"
      ]
    },
    {
      "cell_type": "markdown",
      "id": "1494d2e2-c5f0-4426-bd28-3ccea38d7b09",
      "metadata": {
        "id": "1494d2e2-c5f0-4426-bd28-3ccea38d7b09"
      },
      "source": [
        "## 4.8.- Medidas de tendencia central y Dispersión"
      ]
    },
    {
      "cell_type": "markdown",
      "id": "68b9172a-f029-4f3c-83d1-545ff8937e5a",
      "metadata": {
        "id": "68b9172a-f029-4f3c-83d1-545ff8937e5a"
      },
      "source": [
        "Importa la librería d eestadistica, y crea una lista de calificaciones aleatorias entre 50 y 100"
      ]
    },
    {
      "cell_type": "code",
      "execution_count": null,
      "id": "06d77b88-6f25-4ee2-81c9-deb91bde85d4",
      "metadata": {
        "id": "06d77b88-6f25-4ee2-81c9-deb91bde85d4"
      },
      "outputs": [],
      "source": [
        "import statistics as estad"
      ]
    },
    {
      "cell_type": "code",
      "execution_count": null,
      "id": "55722831-d3af-4942-9a4c-fe1a3aac33b9",
      "metadata": {
        "id": "55722831-d3af-4942-9a4c-fe1a3aac33b9"
      },
      "outputs": [],
      "source": [
        "calificaciones= [68, 90, 80, 100, 80, 75, 85, 95, 70, 70]"
      ]
    },
    {
      "cell_type": "markdown",
      "id": "77e5a078-1a94-4fc1-acb0-4ae291e3ea0c",
      "metadata": {
        "id": "77e5a078-1a94-4fc1-acb0-4ae291e3ea0c"
      },
      "source": [
        "Calcula las medidas de tendencia central"
      ]
    },
    {
      "cell_type": "code",
      "source": [
        "media=estad.mean(calificaciones)\n",
        "mediana=estad.median(calificaciones)\n",
        "moda=estad.mode(calificaciones)"
      ],
      "metadata": {
        "id": "qUwDNR4_Y30D"
      },
      "id": "qUwDNR4_Y30D",
      "execution_count": null,
      "outputs": []
    },
    {
      "cell_type": "code",
      "source": [
        "print('Las medidas de tendencia central son:')\n",
        "print(f'Media= {media:>7}')\n",
        "print(f'Mediana= {mediana:>5}')\n",
        "print(f'Moda= {moda:>6}')"
      ],
      "metadata": {
        "colab": {
          "base_uri": "https://localhost:8080/"
        },
        "id": "kg9sVM3qY-MM",
        "outputId": "4b4be3eb-dd9b-454b-bd95-303364344ce4"
      },
      "id": "kg9sVM3qY-MM",
      "execution_count": null,
      "outputs": [
        {
          "output_type": "stream",
          "name": "stdout",
          "text": [
            "Las medidas de tendencia central son:\n",
            "Media=    81.3\n",
            "Mediana=  80.0\n",
            "Moda=     80\n"
          ]
        }
      ]
    },
    {
      "cell_type": "markdown",
      "id": "d0b2cda1-016b-4f15-8663-586820f6aae0",
      "metadata": {
        "id": "d0b2cda1-016b-4f15-8663-586820f6aae0"
      },
      "source": [
        "Calcula las medidas de dispersión"
      ]
    },
    {
      "cell_type": "code",
      "source": [
        "rango=max(calificaciones)-min(calificaciones)\n",
        "varianza=estad.pvariance(calificaciones)\n",
        "desv_estandar=estad.pstdev(calificaciones)"
      ],
      "metadata": {
        "id": "hWJU7zuLY7Vj"
      },
      "id": "hWJU7zuLY7Vj",
      "execution_count": null,
      "outputs": []
    },
    {
      "cell_type": "code",
      "source": [
        "print('Las medidas de dispersión son:')\n",
        "print(f'Rango= {rango:>2}')\n",
        "print(f'Varianza= {varianza:>0.3f}')\n",
        "print(f'Desv. Estándar= {desv_estandar:>0.3f}')"
      ],
      "metadata": {
        "colab": {
          "base_uri": "https://localhost:8080/"
        },
        "id": "lBTzwtPLY_37",
        "outputId": "2238a00d-481c-4124-a068-05940b87b150"
      },
      "id": "lBTzwtPLY_37",
      "execution_count": null,
      "outputs": [
        {
          "output_type": "stream",
          "name": "stdout",
          "text": [
            "Las medidas de dispersión son:\n",
            "Rango= 32\n",
            "Varianza= 110.210\n",
            "Desv. Estándar= 10.498\n"
          ]
        }
      ]
    },
    {
      "cell_type": "markdown",
      "id": "e55f2a84-65b1-4e86-b4d4-9be69022fdc2",
      "metadata": {
        "id": "e55f2a84-65b1-4e86-b4d4-9be69022fdc2"
      },
      "source": [
        "#### Por tu cuenta\n",
        "\n",
        "Para los numeros del 1 al 20, calcula la varianza y la desviacion estandar - compara con la varianza poblacional y la desviacion estandar poblacional"
      ]
    },
    {
      "cell_type": "code",
      "source": [
        "import numpy as np\n",
        "\n",
        "# Números del 1 al 20\n",
        "numeros = list(range(1, 21))\n",
        "\n",
        "# Cálculo de la varianza y desviación estándar muestral\n",
        "varianza_muestral = np.var(numeros, ddof=1)\n",
        "desviacion_estandar_muestral = np.std(numeros, ddof=1)\n",
        "\n",
        "# Cálculo de la varianza y desviación estándar poblacional\n",
        "varianza_poblacional = np.var(numeros)\n",
        "desviacion_estandar_poblacional = np.std(numeros)\n",
        "\n",
        "print(f\"Varianza muestral: {varianza_muestral}\")\n",
        "print(f\"Desviación estándar muestral: {desviacion_estandar_muestral}\")\n",
        "print(f\"Varianza poblacional: {varianza_poblacional}\")\n",
        "print(f\"Desviación estándar poblacional: {desviacion_estandar_poblacional}\")\n"
      ],
      "metadata": {
        "colab": {
          "base_uri": "https://localhost:8080/"
        },
        "id": "F3Ru2vVtZFy6",
        "outputId": "92a4b8cf-3336-4abd-d876-03d0c151ec7e"
      },
      "id": "F3Ru2vVtZFy6",
      "execution_count": null,
      "outputs": [
        {
          "output_type": "stream",
          "name": "stdout",
          "text": [
            "Varianza muestral: 35.0\n",
            "Desviación estándar muestral: 5.916079783099616\n",
            "Varianza poblacional: 33.25\n",
            "Desviación estándar poblacional: 5.766281297335398\n"
          ]
        }
      ]
    }
  ],
  "metadata": {
    "kernelspec": {
      "display_name": "Python 3",
      "language": "python",
      "name": "python3"
    },
    "language_info": {
      "codemirror_mode": {
        "name": "ipython",
        "version": 3
      },
      "file_extension": ".py",
      "mimetype": "text/x-python",
      "name": "python",
      "nbconvert_exporter": "python",
      "pygments_lexer": "ipython3",
      "version": "3.8.8"
    },
    "colab": {
      "provenance": []
    }
  },
  "nbformat": 4,
  "nbformat_minor": 5
}